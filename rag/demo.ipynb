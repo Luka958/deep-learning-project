{
 "cells": [
  {
   "cell_type": "markdown",
   "metadata": {},
   "source": [
    "## Demo"
   ]
  },
  {
   "cell_type": "markdown",
   "metadata": {},
   "source": [
    "### Imports"
   ]
  },
  {
   "cell_type": "code",
   "execution_count": 1,
   "metadata": {},
   "outputs": [],
   "source": [
    "%load_ext autoreload\n",
    "%autoreload 2\n",
    "\n",
    "from decouple import config\n",
    "from fastembed import (\n",
    "    TextEmbedding, \n",
    "    SparseTextEmbedding, \n",
    "    LateInteractionTextEmbedding\n",
    ")\n",
    "from openai import OpenAI\n",
    "from qdrant_client import QdrantClient\n",
    "from qdrant_client.models import (\n",
    "    Distance,\n",
    "    Fusion,\n",
    "    VectorParams, \n",
    "    SparseVectorParams,\n",
    "    SparseIndexParams,\n",
    "    MultiVectorConfig,\n",
    "    MultiVectorComparator,\n",
    "    Modifier,\n",
    "    HnswConfigDiff\n",
    ")\n",
    "\n",
    "from rag.models import (\n",
    "    DenseModelConfig, \n",
    "    SparseModelConfig,\n",
    "    RerankingModelConfig,\n",
    "    Metadata\n",
    ")\n",
    "from rag.repositories import (\n",
    "    DenseSearchRepository,\n",
    "    SparseSearchRepository,\n",
    "    HybridFusionSearchRepository, \n",
    "    HybridRerankingSearchRepository\n",
    ")\n",
    "\n",
    "\n",
    "QDRANT_URL = config('QDRANT_URL')\n",
    "QDRANT_API_KEY = config('QDRANT_API_KEY')\n",
    "NVIDIA_API_KEY = config('NVIDIA_API_KEY')\n",
    "CUDA=config('CUDA', cast=bool)"
   ]
  },
  {
   "cell_type": "markdown",
   "metadata": {},
   "source": [
    "### Client"
   ]
  },
  {
   "cell_type": "code",
   "execution_count": 2,
   "metadata": {},
   "outputs": [
    {
     "name": "stdout",
     "output_type": "stream",
     "text": [
      "collections=[CollectionDescription(name='sparse_collection2')]\n"
     ]
    }
   ],
   "source": [
    "qdrant_client = QdrantClient(\n",
    "    url=QDRANT_URL, \n",
    "    api_key=QDRANT_API_KEY,\n",
    ")\n",
    "\n",
    "print(qdrant_client.get_collections())"
   ]
  },
  {
   "cell_type": "markdown",
   "metadata": {},
   "source": [
    "### Models"
   ]
  },
  {
   "cell_type": "code",
   "execution_count": 3,
   "metadata": {},
   "outputs": [],
   "source": [
    "dense_model_name = 'BAAI/bge-small-en-v1.5'\n",
    "dense_model = TextEmbedding(model_name=dense_model_name)\n",
    "\n",
    "sparse_model_name = 'Qdrant/bm25'\n",
    "sparse_model = SparseTextEmbedding(\n",
    "    model_name=sparse_model_name,\n",
    "    k=1.5,\n",
    "    b=0.75\n",
    ")\n",
    "\n",
    "reranking_model_name = 'colbert-ir/colbertv2.0'\n",
    "reranking_model = LateInteractionTextEmbedding(reranking_model_name)\n",
    "\n",
    "dense_model_config = DenseModelConfig(\n",
    "    name=dense_model_name,\n",
    "    vector_params=VectorParams(\n",
    "        size=384,\n",
    "        distance=Distance.COSINE,\n",
    "        hnsw_config=HnswConfigDiff(\n",
    "            m=16,\n",
    "            ef_construct=128,\n",
    "            on_disk=True\n",
    "        ),\n",
    "        on_disk=True\n",
    "    )\n",
    ")\n",
    "\n",
    "sparse_model_config = SparseModelConfig(\n",
    "    name=sparse_model_name,\n",
    "    sparse_vector_params=SparseVectorParams(\n",
    "        index=SparseIndexParams(\n",
    "            on_disk=True\n",
    "        ),\n",
    "        modifier=Modifier.IDF\n",
    "    )\n",
    ")\n",
    "\n",
    "reranking_model_config = RerankingModelConfig(\n",
    "    name=reranking_model_name,\n",
    "    vector_params=VectorParams(\n",
    "        size=128,\n",
    "        distance=Distance.COSINE,\n",
    "        hnsw_config=HnswConfigDiff(\n",
    "            m=0     # disable HNSW\n",
    "        ),\n",
    "        on_disk=True,\n",
    "        multivector_config=MultiVectorConfig(\n",
    "            comparator=MultiVectorComparator.MAX_SIM,\n",
    "        )\n",
    "    )\n",
    ")"
   ]
  },
  {
   "cell_type": "markdown",
   "metadata": {},
   "source": [
    "### Documents"
   ]
  },
  {
   "cell_type": "code",
   "execution_count": 4,
   "metadata": {},
   "outputs": [],
   "source": [
    "documents = [\n",
    "    'FastEmbed is lighter than Transformers & Sentence-Transformers.',\n",
    "    'FastEmbed is supported by and maintained by Qdrant.',\n",
    "]\n",
    "metadatas = [\n",
    "    Metadata(\n",
    "        id=i + 1,\n",
    "        text=document\n",
    "    )\n",
    "    for i, document in enumerate(documents)\n",
    "]\n",
    "\n",
    "dense_embeddings = list(dense_model.embed(documents))\n",
    "sparse_embeddings = list(sparse_model.embed(documents))\n",
    "reranking_embeddings = list(reranking_model.embed(documents))"
   ]
  },
  {
   "cell_type": "markdown",
   "metadata": {},
   "source": [
    "### Indexing"
   ]
  },
  {
   "cell_type": "code",
   "execution_count": 5,
   "metadata": {},
   "outputs": [],
   "source": [
    "DENSE_COLLECTION_NAME = 'dense_collection'\n",
    "SPARSE_COLLECTION_NAME = 'sparse_collection'\n",
    "FUSION_COLLECTION_NAME = 'fusion_collection'\n",
    "RERANKING_COLLECTION_NAME = 'reranking_collection'"
   ]
  },
  {
   "cell_type": "markdown",
   "metadata": {},
   "source": [
    "#### Dense"
   ]
  },
  {
   "cell_type": "code",
   "execution_count": 6,
   "metadata": {},
   "outputs": [],
   "source": [
    "dense_search = DenseSearchRepository(\n",
    "    qdrant_client=qdrant_client, \n",
    "    dense_model_config=dense_model_config\n",
    ")\n",
    "\n",
    "dense_search.create_collection(DENSE_COLLECTION_NAME)\n",
    "dense_search.upload_points(\n",
    "    collection_name=DENSE_COLLECTION_NAME,\n",
    "    metadatas=metadatas,\n",
    "    dense_embeddings=dense_embeddings\n",
    ")"
   ]
  },
  {
   "cell_type": "markdown",
   "metadata": {},
   "source": [
    "#### Sparse"
   ]
  },
  {
   "cell_type": "code",
   "execution_count": 7,
   "metadata": {},
   "outputs": [],
   "source": [
    "sparse_search = SparseSearchRepository(\n",
    "    qdrant_client=qdrant_client, \n",
    "    sparse_model_config=sparse_model_config\n",
    ")\n",
    "\n",
    "sparse_search.create_collection(SPARSE_COLLECTION_NAME)\n",
    "sparse_search.upload_points(\n",
    "    collection_name=SPARSE_COLLECTION_NAME,\n",
    "    metadatas=metadatas,\n",
    "    sparse_embeddings=sparse_embeddings\n",
    ")"
   ]
  },
  {
   "cell_type": "markdown",
   "metadata": {},
   "source": [
    "#### Hybrid - Fusion"
   ]
  },
  {
   "cell_type": "code",
   "execution_count": 8,
   "metadata": {},
   "outputs": [],
   "source": [
    "fusion_search = HybridFusionSearchRepository(\n",
    "    qdrant_client=qdrant_client, \n",
    "    dense_model_config=dense_model_config,\n",
    "    sparse_model_config=sparse_model_config\n",
    ")\n",
    "\n",
    "fusion_search.create_collection(FUSION_COLLECTION_NAME)\n",
    "fusion_search.upload_points(\n",
    "    collection_name=FUSION_COLLECTION_NAME,\n",
    "    metadatas=metadatas,\n",
    "    dense_embeddings=dense_embeddings, \n",
    "    sparse_embeddings=sparse_embeddings\n",
    ")"
   ]
  },
  {
   "cell_type": "markdown",
   "metadata": {},
   "source": [
    "#### Hybrid - Reranking"
   ]
  },
  {
   "cell_type": "code",
   "execution_count": 9,
   "metadata": {},
   "outputs": [],
   "source": [
    "reranking_search = HybridRerankingSearchRepository(\n",
    "    qdrant_client=qdrant_client, \n",
    "    dense_model_config=dense_model_config,\n",
    "    sparse_model_config=sparse_model_config,\n",
    "    reranking_model_config=reranking_model_config\n",
    ")\n",
    "\n",
    "reranking_search.create_collection(RERANKING_COLLECTION_NAME)\n",
    "reranking_search.upload_points(\n",
    "    collection_name=RERANKING_COLLECTION_NAME,\n",
    "    metadatas=metadatas,\n",
    "    dense_embeddings=dense_embeddings, \n",
    "    sparse_embeddings=sparse_embeddings,\n",
    "    reranking_embeddings=reranking_embeddings\n",
    ")"
   ]
  },
  {
   "cell_type": "markdown",
   "metadata": {},
   "source": [
    "### Queries"
   ]
  },
  {
   "cell_type": "code",
   "execution_count": 10,
   "metadata": {},
   "outputs": [],
   "source": [
    "query_document = 'Who is lighter than Transformers?'\n",
    "\n",
    "query_dense_embedding = next(iter(dense_model.embed(query_document)))\n",
    "query_sparse_embedding = next(iter(sparse_model.embed(query_document)))\n",
    "query_reranking_embedding = next(iter(reranking_model.embed(query_document)))"
   ]
  },
  {
   "cell_type": "markdown",
   "metadata": {},
   "source": [
    "### Search"
   ]
  },
  {
   "cell_type": "markdown",
   "metadata": {},
   "source": [
    "#### Dense"
   ]
  },
  {
   "cell_type": "code",
   "execution_count": 11,
   "metadata": {},
   "outputs": [
    {
     "name": "stdout",
     "output_type": "stream",
     "text": [
      "id='90543e17-dd2d-4bcc-ac03-b4770e0a368a' version=0 score=0.7509401 payload={'id': 1, 'text': 'FastEmbed is lighter than Transformers & Sentence-Transformers.'} vector=None shard_key=None order_value=None\n"
     ]
    }
   ],
   "source": [
    "dense_scored_points = dense_search.search(\n",
    "    collection_name=DENSE_COLLECTION_NAME,\n",
    "    limit=1,\n",
    "    dense_embedding=query_dense_embedding\n",
    ")\n",
    "\n",
    "print(*dense_scored_points, sep='\\n')"
   ]
  },
  {
   "cell_type": "markdown",
   "metadata": {},
   "source": [
    "#### Sparse"
   ]
  },
  {
   "cell_type": "code",
   "execution_count": 12,
   "metadata": {},
   "outputs": [
    {
     "name": "stdout",
     "output_type": "stream",
     "text": [
      "id='655efa35-a3be-4a4a-986a-b599bc5e4de4' version=0 score=4.1631217 payload={'id': 1, 'text': 'FastEmbed is lighter than Transformers & Sentence-Transformers.'} vector=None shard_key=None order_value=None\n"
     ]
    }
   ],
   "source": [
    "sparse_scored_points = sparse_search.search(\n",
    "    collection_name=SPARSE_COLLECTION_NAME,\n",
    "    limit=1,\n",
    "    sparse_embedding=query_sparse_embedding\n",
    ")\n",
    "\n",
    "print(*sparse_scored_points, sep='\\n')"
   ]
  },
  {
   "cell_type": "markdown",
   "metadata": {},
   "source": [
    "#### Hybrid - Fusion"
   ]
  },
  {
   "cell_type": "code",
   "execution_count": 13,
   "metadata": {},
   "outputs": [
    {
     "name": "stdout",
     "output_type": "stream",
     "text": [
      "id='4da639c2-2e0c-4133-bca1-b9ec7a561a8b' version=0 score=1.0 payload={'id': 1, 'text': 'FastEmbed is lighter than Transformers & Sentence-Transformers.'} vector=None shard_key=None order_value=None\n"
     ]
    }
   ],
   "source": [
    "fusion_scored_points = fusion_search.search(\n",
    "    collection_name=FUSION_COLLECTION_NAME,\n",
    "    limit=1,\n",
    "    fusion_algorithm=Fusion.RRF,\n",
    "    dense_embedding=query_dense_embedding,\n",
    "    sparse_embedding=query_sparse_embedding\n",
    ")\n",
    "\n",
    "print(*fusion_scored_points, sep='\\n')"
   ]
  },
  {
   "cell_type": "markdown",
   "metadata": {},
   "source": [
    "#### Hybrid - Reranking"
   ]
  },
  {
   "cell_type": "code",
   "execution_count": 14,
   "metadata": {},
   "outputs": [
    {
     "name": "stdout",
     "output_type": "stream",
     "text": [
      "id='bd55ad2b-b168-4a5b-8f29-56bbe3df29bc' version=0 score=5.8587246 payload={'id': 1, 'text': 'FastEmbed is lighter than Transformers & Sentence-Transformers.'} vector=None shard_key=None order_value=None\n"
     ]
    }
   ],
   "source": [
    "reranking_scored_points = reranking_search.search(\n",
    "    collection_name=RERANKING_COLLECTION_NAME,\n",
    "    limit=1,\n",
    "    prefetch_limit=2,\n",
    "    dense_embedding=query_dense_embedding,\n",
    "    sparse_embedding=query_sparse_embedding,\n",
    "    reranking_embedding=query_reranking_embedding\n",
    ")\n",
    "\n",
    "print(*reranking_scored_points, sep='\\n')"
   ]
  },
  {
   "cell_type": "code",
   "execution_count": null,
   "metadata": {},
   "outputs": [],
   "source": [
    "# NOTE: use with SPLADE\n",
    "\n",
    "import json\n",
    "from fastembed.sparse import SparseEmbedding\n",
    "from tokenizers import Tokenizer\n",
    "\n",
    "\n",
    "def get_tokens_to_weights(sparse_embedding: SparseEmbedding, tokenizer: Tokenizer) -> dict:\n",
    "    token_weight_dict = {}\n",
    "    \n",
    "    for i in range(len(sparse_embedding.indices)):\n",
    "        token = tokenizer.decode([sparse_embedding.indices[i]])\n",
    "        weight = sparse_embedding.values[i]\n",
    "        token_weight_dict[token] = weight\n",
    "\n",
    "    # sort by weights\n",
    "    token_weight_dict = dict(sorted(token_weight_dict.items(), key=lambda item: item[1], reverse=True))\n",
    "    \n",
    "    return token_weight_dict\n",
    "\n",
    "\n",
    "index = 0\n",
    "tokenizer = Tokenizer.from_pretrained('Qdrant/SPLADE_PP_en_v1')\n",
    "tokens_to_weights = get_tokens_to_weights(sparse_embeddings[index], tokenizer)\n",
    "\n",
    "print(json.dumps(tokens_to_weights, indent=4))"
   ]
  },
  {
   "cell_type": "markdown",
   "metadata": {},
   "source": [
    "### LLM"
   ]
  },
  {
   "cell_type": "code",
   "execution_count": 21,
   "metadata": {},
   "outputs": [
    {
     "name": "stdout",
     "output_type": "stream",
     "text": [
      "ChatCompletion(id='chat-5f1ee1ebe77d4e9ca3fb01051219d96a', choices=[Choice(finish_reason='stop', index=0, logprobs=None, message=ChatCompletionMessage(content='{\"answer\": \"FastEmbed\"}', refusal=None, role='assistant', audio=None, function_call=None, tool_calls=None), stop_reason=None)], created=1736019507, model='meta/llama-3.1-405b-instruct', object='chat.completion', service_tier=None, system_fingerprint=None, usage=CompletionUsage(completion_tokens=7, prompt_tokens=115, total_tokens=122, completion_tokens_details=None, prompt_tokens_details=None))\n"
     ]
    }
   ],
   "source": [
    "client = OpenAI(\n",
    "  base_url = 'https://integrate.api.nvidia.com/v1',\n",
    "  api_key = NVIDIA_API_KEY\n",
    ")\n",
    "\n",
    "content = (\n",
    "    'You are a helpful assistant that answers given question using ONLY PROVIDED CONTEXT.\\n'\n",
    "    'You are not allowed to use any previous knowledge.\\n\\n'\n",
    "\n",
    "    'The output should be a well-formatted JSON object that conforms to the example below\\n'\n",
    "    '(\"answer\" is either string or null):\\n'\n",
    "    '{\"answer\": \"some answer\"}\\n\\n'\n",
    "\n",
    "    'If you don\\'t know the answer, return:\\n'\n",
    "    '{\"answer\": null}\\n\\n'\n",
    "\n",
    "    '<context_start>\\n'\n",
    "    f'{reranking_scored_points[0].payload['text']}\\n'\n",
    "    '<context_end>\\n\\n'\n",
    "\n",
    "    '<question_start>\\n'\n",
    "    f'{query_document}\\n'\n",
    "    '<question_end>'\n",
    ")\n",
    "\n",
    "completion = client.chat.completions.create(\n",
    "    model='meta/llama-3.1-405b-instruct',\n",
    "    messages=[{\n",
    "        'role': 'user', \n",
    "        'content': content\n",
    "    }],\n",
    "    temperature=0.2,\n",
    "    max_tokens=1024,\n",
    "    stream=False\n",
    ")\n",
    "print(completion)"
   ]
  }
 ],
 "metadata": {
  "kernelspec": {
   "display_name": "rag-LTDKTwC4-py3.12",
   "language": "python",
   "name": "python3"
  },
  "language_info": {
   "codemirror_mode": {
    "name": "ipython",
    "version": 3
   },
   "file_extension": ".py",
   "mimetype": "text/x-python",
   "name": "python",
   "nbconvert_exporter": "python",
   "pygments_lexer": "ipython3",
   "version": "3.12.3"
  }
 },
 "nbformat": 4,
 "nbformat_minor": 2
}
