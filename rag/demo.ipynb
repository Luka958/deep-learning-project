{
 "cells": [
  {
   "cell_type": "markdown",
   "metadata": {},
   "source": [
    "## Demo"
   ]
  },
  {
   "cell_type": "markdown",
   "metadata": {},
   "source": [
    "### Imports"
   ]
  },
  {
   "cell_type": "code",
   "execution_count": 1,
   "metadata": {},
   "outputs": [],
   "source": [
    "%load_ext autoreload\n",
    "%autoreload 2\n",
    "\n",
    "from decouple import config\n",
    "from fastembed import (\n",
    "    TextEmbedding, \n",
    "    SparseTextEmbedding, \n",
    "    LateInteractionTextEmbedding\n",
    ")\n",
    "from openai import OpenAI\n",
    "from qdrant_client import QdrantClient\n",
    "from qdrant_client.models import (\n",
    "    Distance,\n",
    "    Fusion,\n",
    "    VectorParams, \n",
    "    SparseVectorParams,\n",
    "    SparseIndexParams,\n",
    "    MultiVectorConfig,\n",
    "    MultiVectorComparator,\n",
    "    Modifier,\n",
    "    HnswConfigDiff\n",
    ")\n",
    "\n",
    "from rag.models import (\n",
    "    DenseModelConfig, \n",
    "    SparseModelConfig,\n",
    "    RerankingModelConfig,\n",
    "    DenseSearchManager,\n",
    "    SparseSearchManager,\n",
    "    HybridFusionSearchManager, \n",
    "    HybridRerankingSearchManager, \n",
    "    Metadata\n",
    ")\n",
    "\n",
    "\n",
    "QDRANT_URL = config('QDRANT_URL')\n",
    "QDRANT_API_KEY = config('QDRANT_API_KEY')\n",
    "NVIDIA_API_KEY = config('NVIDIA_API_KEY')"
   ]
  },
  {
   "cell_type": "markdown",
   "metadata": {},
   "source": [
    "### Client"
   ]
  },
  {
   "cell_type": "code",
   "execution_count": 2,
   "metadata": {},
   "outputs": [
    {
     "name": "stdout",
     "output_type": "stream",
     "text": [
      "collections=[]\n"
     ]
    }
   ],
   "source": [
    "qdrant_client = QdrantClient(\n",
    "    url=QDRANT_URL, \n",
    "    api_key=QDRANT_API_KEY,\n",
    ")\n",
    "\n",
    "print(qdrant_client.get_collections())"
   ]
  },
  {
   "cell_type": "markdown",
   "metadata": {},
   "source": [
    "### Models"
   ]
  },
  {
   "cell_type": "code",
   "execution_count": 3,
   "metadata": {},
   "outputs": [],
   "source": [
    "dense_model_name = 'BAAI/bge-small-en-v1.5'\n",
    "dense_model = TextEmbedding(model_name=dense_model_name)\n",
    "\n",
    "sparse_model_name = 'Qdrant/bm25'\n",
    "sparse_model = SparseTextEmbedding(\n",
    "    model_name=sparse_model_name,\n",
    "    k1=1.5,\n",
    "    b=0.75\n",
    ")\n",
    "\n",
    "reranking_model_name = 'colbert-ir/colbertv2.0'\n",
    "reranking_model = LateInteractionTextEmbedding(reranking_model_name)\n",
    "\n",
    "dense_model_config = DenseModelConfig(\n",
    "    name=dense_model_name,\n",
    "    vector_params=VectorParams(\n",
    "        size=384,\n",
    "        distance=Distance.COSINE,\n",
    "        hnsw_config=HnswConfigDiff(\n",
    "            m=16,\n",
    "            ef_construct=128,\n",
    "            on_disk=True\n",
    "        ),\n",
    "        on_disk=True\n",
    "    )\n",
    ")\n",
    "\n",
    "sparse_model_config = SparseModelConfig(\n",
    "    name=sparse_model_name,\n",
    "    sparse_vector_params=SparseVectorParams(\n",
    "        index=SparseIndexParams(\n",
    "            on_disk=True\n",
    "        ),\n",
    "        modifier=Modifier.IDF\n",
    "    )\n",
    ")\n",
    "\n",
    "reranking_model_config = RerankingModelConfig(\n",
    "    name=reranking_model_name,\n",
    "    vector_params=VectorParams(\n",
    "        size=128,\n",
    "        distance=Distance.COSINE,\n",
    "        hnsw_config=HnswConfigDiff(\n",
    "            m=0     # disable HNSW\n",
    "        ),\n",
    "        on_disk=True,\n",
    "        multivector_config=MultiVectorConfig(\n",
    "            comparator=MultiVectorComparator.MAX_SIM,\n",
    "        )\n",
    "    )\n",
    ")"
   ]
  },
  {
   "cell_type": "markdown",
   "metadata": {},
   "source": [
    "### Documents"
   ]
  },
  {
   "cell_type": "code",
   "execution_count": 4,
   "metadata": {},
   "outputs": [],
   "source": [
    "documents = [\n",
    "    'FastEmbed is lighter than Transformers & Sentence-Transformers.',\n",
    "    'FastEmbed is supported by and maintained by Qdrant.',\n",
    "]\n",
    "metadatas = [\n",
    "    Metadata(\n",
    "        id=i + 1,\n",
    "        text=document\n",
    "    )\n",
    "    for i, document in enumerate(documents)\n",
    "]\n",
    "\n",
    "dense_embeddings = list(dense_model.embed(documents))\n",
    "sparse_embeddings = list(sparse_model.embed(documents))\n",
    "reranking_embeddings = list(reranking_model.embed(documents))"
   ]
  },
  {
   "cell_type": "markdown",
   "metadata": {},
   "source": [
    "### Indexing"
   ]
  },
  {
   "cell_type": "markdown",
   "metadata": {},
   "source": [
    "#### Dense"
   ]
  },
  {
   "cell_type": "code",
   "execution_count": 5,
   "metadata": {},
   "outputs": [
    {
     "data": {
      "text/plain": [
       "'completed'"
      ]
     },
     "execution_count": 5,
     "metadata": {},
     "output_type": "execute_result"
    }
   ],
   "source": [
    "dense_search = DenseSearchManager(\n",
    "    qdrant_client=qdrant_client, \n",
    "    dense_model_config=dense_model_config\n",
    ")\n",
    "dense_collection_name = 'dense_collection'\n",
    "\n",
    "dense_search.create_collection(dense_collection_name)\n",
    "dense_search.upsert(\n",
    "    dense_collection_name,\n",
    "    dense_embeddings,\n",
    "    metadatas\n",
    ")"
   ]
  },
  {
   "cell_type": "markdown",
   "metadata": {},
   "source": [
    "#### Sparse"
   ]
  },
  {
   "cell_type": "code",
   "execution_count": 6,
   "metadata": {},
   "outputs": [
    {
     "data": {
      "text/plain": [
       "'completed'"
      ]
     },
     "execution_count": 6,
     "metadata": {},
     "output_type": "execute_result"
    }
   ],
   "source": [
    "sparse_search = SparseSearchManager(\n",
    "    qdrant_client=qdrant_client, \n",
    "    sparse_model_config=sparse_model_config\n",
    ")\n",
    "sparse_collection_name = 'sparse_collection'\n",
    "\n",
    "sparse_search.create_collection(sparse_collection_name)\n",
    "sparse_search.upsert(\n",
    "    sparse_collection_name,\n",
    "    sparse_embeddings,\n",
    "    metadatas\n",
    ")"
   ]
  },
  {
   "cell_type": "markdown",
   "metadata": {},
   "source": [
    "#### Hybrid - Fusion"
   ]
  },
  {
   "cell_type": "code",
   "execution_count": null,
   "metadata": {},
   "outputs": [
    {
     "data": {
      "text/plain": [
       "'completed'"
      ]
     },
     "execution_count": 9,
     "metadata": {},
     "output_type": "execute_result"
    }
   ],
   "source": [
    "fusion_search = HybridFusionSearchManager(\n",
    "    qdrant_client=qdrant_client, \n",
    "    dense_model_config=dense_model_config,\n",
    "    sparse_model_config=sparse_model_config\n",
    ")\n",
    "fusion_collection_name = 'fusion_collection'\n",
    "\n",
    "fusion_search.create_collection(fusion_collection_name)\n",
    "fusion_search.upsert(\n",
    "    fusion_collection_name, \n",
    "    dense_embeddings, \n",
    "    sparse_embeddings,\n",
    "    metadatas\n",
    ")"
   ]
  },
  {
   "cell_type": "markdown",
   "metadata": {},
   "source": [
    "#### Hybrid - Reranking"
   ]
  },
  {
   "cell_type": "code",
   "execution_count": null,
   "metadata": {},
   "outputs": [
    {
     "data": {
      "text/plain": [
       "'completed'"
      ]
     },
     "execution_count": 10,
     "metadata": {},
     "output_type": "execute_result"
    }
   ],
   "source": [
    "reranking_search = HybridRerankingSearchManager(\n",
    "    qdrant_client=qdrant_client, \n",
    "    dense_model_config=dense_model_config,\n",
    "    sparse_model_config=sparse_model_config,\n",
    "    reranking_model_config=reranking_model_config\n",
    ")\n",
    "reranking_collection_name = 'reranking_collection'\n",
    "\n",
    "reranking_search.create_collection(reranking_collection_name)\n",
    "reranking_search.upsert(\n",
    "    reranking_collection_name, \n",
    "    dense_embeddings, \n",
    "    sparse_embeddings,\n",
    "    reranking_embeddings,\n",
    "    metadatas\n",
    ")"
   ]
  },
  {
   "cell_type": "markdown",
   "metadata": {},
   "source": [
    "### Query"
   ]
  },
  {
   "cell_type": "code",
   "execution_count": 11,
   "metadata": {},
   "outputs": [],
   "source": [
    "query_document = 'Who is lighter than Transformers?'\n",
    "\n",
    "query_dense_embedding = next(iter(dense_model.embed(query_document)))\n",
    "query_sparse_embedding = next(iter(sparse_model.embed(query_document)))\n",
    "query_reranking_embedding = next(iter(reranking_model.embed(query_document)))"
   ]
  },
  {
   "cell_type": "markdown",
   "metadata": {},
   "source": [
    "### Search"
   ]
  },
  {
   "cell_type": "markdown",
   "metadata": {},
   "source": [
    "#### Dense"
   ]
  },
  {
   "cell_type": "code",
   "execution_count": 12,
   "metadata": {},
   "outputs": [
    {
     "name": "stdout",
     "output_type": "stream",
     "text": [
      "id='c3181a05-9953-4b81-a491-15b9f1b3208d' version=0 score=0.7509401 payload={'id': 1, 'text': 'FastEmbed is lighter than Transformers & Sentence-Transformers.'} vector=None shard_key=None order_value=None\n"
     ]
    }
   ],
   "source": [
    "dense_scored_points = dense_search.search(\n",
    "    dense_collection_name,\n",
    "    query_dense_embedding,\n",
    "    1\n",
    ")\n",
    "\n",
    "print(*dense_scored_points, sep='\\n')"
   ]
  },
  {
   "cell_type": "markdown",
   "metadata": {},
   "source": [
    "#### Sparse"
   ]
  },
  {
   "cell_type": "code",
   "execution_count": 13,
   "metadata": {},
   "outputs": [
    {
     "name": "stdout",
     "output_type": "stream",
     "text": [
      "id='2bd53b67-23b4-4a84-8f47-12782ef07e2a' version=0 score=4.1631217 payload={'id': 1, 'text': 'FastEmbed is lighter than Transformers & Sentence-Transformers.'} vector=None shard_key=None order_value=None\n"
     ]
    }
   ],
   "source": [
    "sparse_scored_points = sparse_search.search(\n",
    "    sparse_collection_name,\n",
    "    query_sparse_embedding,\n",
    "    1\n",
    ")\n",
    "\n",
    "print(*sparse_scored_points, sep='\\n')"
   ]
  },
  {
   "cell_type": "markdown",
   "metadata": {},
   "source": [
    "#### Hybrid - Fusion"
   ]
  },
  {
   "cell_type": "code",
   "execution_count": 14,
   "metadata": {},
   "outputs": [
    {
     "name": "stdout",
     "output_type": "stream",
     "text": [
      "id='2c0b2e24-1435-451c-8dc0-298e1c710e53' version=0 score=1.0 payload={'id': 1, 'text': 'FastEmbed is lighter than Transformers & Sentence-Transformers.'} vector=None shard_key=None order_value=None\n"
     ]
    }
   ],
   "source": [
    "fusion_scored_points = fusion_search.search(\n",
    "    fusion_collection_name,\n",
    "    query_dense_embedding,\n",
    "    query_sparse_embedding,\n",
    "    Fusion.RRF,\n",
    "    1\n",
    ")\n",
    "\n",
    "print(*fusion_scored_points, sep='\\n')"
   ]
  },
  {
   "cell_type": "markdown",
   "metadata": {},
   "source": [
    "#### Hybrid - Reranking"
   ]
  },
  {
   "cell_type": "code",
   "execution_count": 15,
   "metadata": {},
   "outputs": [
    {
     "name": "stdout",
     "output_type": "stream",
     "text": [
      "id='2d78e6a2-e0a4-4380-afe8-7d054612d469' version=0 score=5.8587246 payload={'id': 1, 'text': 'FastEmbed is lighter than Transformers & Sentence-Transformers.'} vector=None shard_key=None order_value=None\n"
     ]
    }
   ],
   "source": [
    "reranking_scored_points = reranking_search.search(\n",
    "    reranking_collection_name,\n",
    "    query_dense_embedding,\n",
    "    query_sparse_embedding,\n",
    "    query_reranking_embedding,\n",
    "    2,\n",
    "    1\n",
    ")\n",
    "\n",
    "print(*reranking_scored_points, sep='\\n')"
   ]
  },
  {
   "cell_type": "code",
   "execution_count": null,
   "metadata": {},
   "outputs": [],
   "source": [
    "# NOTE: use with SPLADE\n",
    "\n",
    "import json\n",
    "from fastembed.sparse import SparseEmbedding\n",
    "from tokenizers import Tokenizer\n",
    "\n",
    "\n",
    "def get_tokens_to_weights(sparse_embedding: SparseEmbedding, tokenizer: Tokenizer) -> dict:\n",
    "    token_weight_dict = {}\n",
    "    \n",
    "    for i in range(len(sparse_embedding.indices)):\n",
    "        token = tokenizer.decode([sparse_embedding.indices[i]])\n",
    "        weight = sparse_embedding.values[i]\n",
    "        token_weight_dict[token] = weight\n",
    "\n",
    "    # sort by weights\n",
    "    token_weight_dict = dict(sorted(token_weight_dict.items(), key=lambda item: item[1], reverse=True))\n",
    "    \n",
    "    return token_weight_dict\n",
    "\n",
    "\n",
    "index = 0\n",
    "tokenizer = Tokenizer.from_pretrained('Qdrant/SPLADE_PP_en_v1')\n",
    "tokens_to_weights = get_tokens_to_weights(sparse_embeddings[index], tokenizer)\n",
    "\n",
    "print(json.dumps(tokens_to_weights, indent=4))"
   ]
  },
  {
   "cell_type": "markdown",
   "metadata": {},
   "source": [
    "### LLM"
   ]
  },
  {
   "cell_type": "code",
   "execution_count": 21,
   "metadata": {},
   "outputs": [
    {
     "name": "stdout",
     "output_type": "stream",
     "text": [
      "ChatCompletion(id='chat-5f1ee1ebe77d4e9ca3fb01051219d96a', choices=[Choice(finish_reason='stop', index=0, logprobs=None, message=ChatCompletionMessage(content='{\"answer\": \"FastEmbed\"}', refusal=None, role='assistant', audio=None, function_call=None, tool_calls=None), stop_reason=None)], created=1736019507, model='meta/llama-3.1-405b-instruct', object='chat.completion', service_tier=None, system_fingerprint=None, usage=CompletionUsage(completion_tokens=7, prompt_tokens=115, total_tokens=122, completion_tokens_details=None, prompt_tokens_details=None))\n"
     ]
    }
   ],
   "source": [
    "client = OpenAI(\n",
    "  base_url = 'https://integrate.api.nvidia.com/v1',\n",
    "  api_key = NVIDIA_API_KEY\n",
    ")\n",
    "\n",
    "content = (\n",
    "    'You are a helpful assistant that answers given question using ONLY PROVIDED CONTEXT.\\n'\n",
    "    'You are not allowed to use any previous knowledge.\\n\\n'\n",
    "\n",
    "    'The output should be a well-formatted JSON object that conforms to the example below\\n'\n",
    "    '(\"answer\" is either string or null):\\n'\n",
    "    '{\"answer\": \"some answer\"}\\n\\n'\n",
    "\n",
    "    'If you don\\'t know the answer, return:\\n'\n",
    "    '{\"answer\": null}\\n\\n'\n",
    "\n",
    "    '<context_start>\\n'\n",
    "    f'{reranking_scored_points[0].payload['text']}\\n'\n",
    "    '<context_end>\\n\\n'\n",
    "\n",
    "    '<question_start>\\n'\n",
    "    f'{query_document}\\n'\n",
    "    '<question_end>'\n",
    ")\n",
    "\n",
    "completion = client.chat.completions.create(\n",
    "    model='meta/llama-3.1-405b-instruct',\n",
    "    messages=[{\n",
    "        'role': 'user', \n",
    "        'content': content\n",
    "    }],\n",
    "    temperature=0.2,\n",
    "    max_tokens=1024,\n",
    "    stream=False\n",
    ")\n",
    "print(completion)"
   ]
  }
 ],
 "metadata": {
  "kernelspec": {
   "display_name": "rag-LTDKTwC4-py3.12",
   "language": "python",
   "name": "python3"
  },
  "language_info": {
   "codemirror_mode": {
    "name": "ipython",
    "version": 3
   },
   "file_extension": ".py",
   "mimetype": "text/x-python",
   "name": "python",
   "nbconvert_exporter": "python",
   "pygments_lexer": "ipython3",
   "version": "3.12.3"
  }
 },
 "nbformat": 4,
 "nbformat_minor": 2
}
