{
 "cells": [
  {
   "cell_type": "code",
   "execution_count": 1,
   "metadata": {},
   "outputs": [],
   "source": [
    "%load_ext autoreload\n",
    "%autoreload 2\n",
    "\n",
    "from decouple import config\n",
    "from qdrant_client import QdrantClient\n",
    "\n",
    "\n",
    "QDRANT_URL = config('QDRANT_URL')\n",
    "QDRANT_API_KEY = config('QDRANT_API_KEY')"
   ]
  },
  {
   "cell_type": "code",
   "execution_count": 2,
   "metadata": {},
   "outputs": [
    {
     "data": {
      "application/vnd.jupyter.widget-view+json": {
       "model_id": "3091bd99150e403daea6709dc596545b",
       "version_major": 2,
       "version_minor": 0
      },
      "text/plain": [
       "Filter:   0%|          | 0/10000 [00:00<?, ? examples/s]"
      ]
     },
     "metadata": {},
     "output_type": "display_data"
    },
    {
     "data": {
      "application/vnd.jupyter.widget-view+json": {
       "model_id": "a7f43e38941f4665a2c10f89477bfabd",
       "version_major": 2,
       "version_minor": 0
      },
      "text/plain": [
       "Filter:   0%|          | 0/10000 [00:00<?, ? examples/s]"
      ]
     },
     "metadata": {},
     "output_type": "display_data"
    },
    {
     "data": {
      "text/plain": [
       "(1233, 1446, 1473)"
      ]
     },
     "execution_count": 2,
     "metadata": {},
     "output_type": "execute_result"
    }
   ],
   "source": [
    "from rag.utils import load_datasets\n",
    "\n",
    "\n",
    "corpus_df, queries_df, qrels_df = load_datasets(10_000, 10_000)\n",
    "\n",
    "corpus_df.size, queries_df.size, qrels_df.size"
   ]
  },
  {
   "cell_type": "code",
   "execution_count": 2,
   "metadata": {},
   "outputs": [
    {
     "name": "stdout",
     "output_type": "stream",
     "text": [
      "collections=[CollectionDescription(name='collection_1')]\n"
     ]
    }
   ],
   "source": [
    "qdrant_client = QdrantClient(\n",
    "    url=QDRANT_URL, \n",
    "    api_key=QDRANT_API_KEY,\n",
    ")\n",
    "\n",
    "print(qdrant_client.get_collections())"
   ]
  },
  {
   "cell_type": "code",
   "execution_count": 4,
   "metadata": {},
   "outputs": [],
   "source": [
    "from fastembed import (\n",
    "    TextEmbedding, \n",
    "    SparseTextEmbedding, \n",
    "    LateInteractionTextEmbedding\n",
    ")\n",
    "from qdrant_client.models import (\n",
    "    Distance, \n",
    "    VectorParams, \n",
    "    SparseVectorParams,\n",
    "    SparseIndexParams,\n",
    "    MultiVectorConfig,\n",
    "    MultiVectorComparator,\n",
    "    Modifier,\n",
    "    HnswConfigDiff\n",
    ")\n",
    "\n",
    "from rag.models.config import (\n",
    "    DenseModelConfig, \n",
    "    SparseModelConfig,\n",
    "    RerankingModelConfig\n",
    ")\n",
    "\n",
    "\n",
    "dense_model_name = 'BAAI/bge-small-en-v1.5'\n",
    "dense_model = TextEmbedding(model_name=dense_model_name)\n",
    "\n",
    "sparse_model_name = 'Qdrant/bm25'\n",
    "sparse_model = SparseTextEmbedding(\n",
    "    model_name=sparse_model_name,\n",
    "    k1=1.5,\n",
    "    b=0.75\n",
    ")\n",
    "\n",
    "reranking_model_name = 'colbert-ir/colbertv2.0'\n",
    "reranking_model = LateInteractionTextEmbedding(reranking_model_name)\n",
    "\n",
    "dense_model_config = DenseModelConfig(\n",
    "    name=dense_model_name,\n",
    "    vector_params=VectorParams(\n",
    "        size=384,\n",
    "        distance=Distance.COSINE,\n",
    "        hnsw_config=HnswConfigDiff(\n",
    "            m=16,\n",
    "            ef_construct=128,\n",
    "            on_disk=True\n",
    "        ),\n",
    "        on_disk=True\n",
    "    )\n",
    ")\n",
    "\n",
    "sparse_model_config = SparseModelConfig(\n",
    "    name=sparse_model_name,\n",
    "    sparse_vector_params=SparseVectorParams(\n",
    "        index=SparseIndexParams(\n",
    "            on_disk=True\n",
    "        ),\n",
    "        modifier=Modifier.IDF\n",
    "    )\n",
    ")\n",
    "\n",
    "reranking_model_config = RerankingModelConfig(\n",
    "    name=reranking_model_name,\n",
    "    vector_params=VectorParams(\n",
    "        size=100,\n",
    "        distance=Distance.COSINE,\n",
    "        hnsw_config=HnswConfigDiff(\n",
    "            m=0     # disable HNSW\n",
    "        ),\n",
    "        on_disk=True,\n",
    "        multivector_config=MultiVectorConfig(\n",
    "            comparator=MultiVectorComparator.MAX_SIM,\n",
    "        )\n",
    "    )\n",
    ")"
   ]
  },
  {
   "cell_type": "code",
   "execution_count": 5,
   "metadata": {},
   "outputs": [],
   "source": [
    "from rag.models import (\n",
    "    DenseSearch,\n",
    "    SparseSearch,\n",
    "    HybridSearch, \n",
    "    HybridRerankingSearch, \n",
    "    Metadata\n",
    ")"
   ]
  },
  {
   "cell_type": "code",
   "execution_count": 6,
   "metadata": {},
   "outputs": [],
   "source": [
    "documents = [\n",
    "    'FastEmbed is lighter than Transformers & Sentence-Transformers.',\n",
    "    'FastEmbed is supported by and maintained by Qdrant.',\n",
    "]\n",
    "metadatas = [\n",
    "    Metadata(\n",
    "        id=i + 1,\n",
    "        text=document\n",
    "    )\n",
    "    for i, document in enumerate(documents)\n",
    "]\n",
    "\n",
    "dense_embeddings = list(dense_model.embed(documents))\n",
    "sparse_embeddings = list(sparse_model.embed(documents))\n",
    "reranking_embeddings = list(reranking_model.embed(documents))"
   ]
  },
  {
   "cell_type": "code",
   "execution_count": null,
   "metadata": {},
   "outputs": [],
   "source": [
    "dense_search = DenseSearch(\n",
    "    qdrant_client=qdrant_client, \n",
    "    dense_model_config=dense_model_config\n",
    ")\n",
    "dense_collection_name = 'dense_collection'\n",
    "\n",
    "dense_search.create_collection(dense_collection_name)\n",
    "dense_search.upsert(\n",
    "    dense_collection_name,\n",
    "    dense_embeddings,\n",
    "    metadatas\n",
    ")"
   ]
  },
  {
   "cell_type": "code",
   "execution_count": null,
   "metadata": {},
   "outputs": [],
   "source": [
    "sparse_search = SparseSearch(\n",
    "    qdrant_client=qdrant_client, \n",
    "    sparse_model_config=sparse_model_config\n",
    ")\n",
    "sparse_collection_name = 'sparse_collection'\n",
    "\n",
    "sparse_search.create_collection(sparse_collection_name)\n",
    "sparse_search.upsert(\n",
    "    sparse_collection_name,\n",
    "    sparse_embeddings,\n",
    "    metadatas\n",
    ")"
   ]
  },
  {
   "cell_type": "code",
   "execution_count": null,
   "metadata": {},
   "outputs": [],
   "source": [
    "hybrid_search = HybridSearch(\n",
    "    qdrant_client=qdrant_client, \n",
    "    dense_model_config=dense_model_config,\n",
    "    sparse_model_config=sparse_model_config\n",
    ")\n",
    "hybrid_collection_name = 'hybrid_collection'\n",
    "\n",
    "hybrid_search.create_collection(hybrid_collection_name)\n",
    "hybrid_search.upsert(\n",
    "    hybrid_collection_name, \n",
    "    dense_embeddings, \n",
    "    sparse_embeddings,\n",
    "    metadatas\n",
    ")"
   ]
  },
  {
   "cell_type": "code",
   "execution_count": 8,
   "metadata": {},
   "outputs": [],
   "source": [
    "query_document = 'Who is lighter than Transformers?'\n",
    "\n",
    "query_dense_embedding = next(iter(dense_model.embed(query_document)))\n",
    "query_sparse_embedding = next(iter(sparse_model.embed(query_document)))\n",
    "query_reranking_embedding = next(iter(reranking_model.embed(query_document)))"
   ]
  },
  {
   "cell_type": "code",
   "execution_count": null,
   "metadata": {},
   "outputs": [
    {
     "data": {
      "text/plain": [
       "[ScoredPoint(id=1, version=0, score=1.0, payload={'text': 'FastEmbed is lighter than Transformers & Sentence-Transformers.'}, vector=None, shard_key=None, order_value=None)]"
      ]
     },
     "execution_count": 12,
     "metadata": {},
     "output_type": "execute_result"
    }
   ],
   "source": [
    "hybrid_search.search(\n",
    "    hybrid_collection_name,\n",
    "    query_dense_embedding,\n",
    "    query_sparse_embedding,\n",
    "    1\n",
    ")"
   ]
  },
  {
   "cell_type": "code",
   "execution_count": null,
   "metadata": {},
   "outputs": [],
   "source": [
    "import json\n",
    "from fastembed.sparse import SparseEmbedding\n",
    "from tokenizers import Tokenizer\n",
    "\n",
    "\n",
    "def get_tokens_and_weights(sparse_embedding: SparseEmbedding, tokenizer: Tokenizer) -> dict:\n",
    "    token_weight_dict = {}\n",
    "    \n",
    "    for i in range(len(sparse_embedding.indices)):\n",
    "        token = tokenizer.decode([sparse_embedding.indices[i]])\n",
    "        weight = sparse_embedding.values[i]\n",
    "        token_weight_dict[token] = weight\n",
    "\n",
    "    # sort by weights\n",
    "    token_weight_dict = dict(sorted(token_weight_dict.items(), key=lambda item: item[1], reverse=True))\n",
    "    \n",
    "    return token_weight_dict\n",
    "\n",
    "\n",
    "tokenizer = Tokenizer.from_pretrained('Qdrant/SPLADE_PP_en_v1')\n",
    "index = 0\n",
    "print(json.dumps(get_tokens_and_weights(sparse_embeddings[index], tokenizer), indent=4))"
   ]
  },
  {
   "cell_type": "code",
   "execution_count": null,
   "metadata": {},
   "outputs": [],
   "source": [
    "# TODO add nvidia API for LLM"
   ]
  }
 ],
 "metadata": {
  "kernelspec": {
   "display_name": "rag-LTDKTwC4-py3.12",
   "language": "python",
   "name": "python3"
  },
  "language_info": {
   "codemirror_mode": {
    "name": "ipython",
    "version": 3
   },
   "file_extension": ".py",
   "mimetype": "text/x-python",
   "name": "python",
   "nbconvert_exporter": "python",
   "pygments_lexer": "ipython3",
   "version": "3.12.3"
  }
 },
 "nbformat": 4,
 "nbformat_minor": 2
}
