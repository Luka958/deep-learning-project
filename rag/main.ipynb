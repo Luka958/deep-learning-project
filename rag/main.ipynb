{
 "cells": [
  {
   "cell_type": "markdown",
   "metadata": {},
   "source": [
    "## Demo"
   ]
  },
  {
   "cell_type": "markdown",
   "metadata": {},
   "source": [
    "### Imports"
   ]
  },
  {
   "cell_type": "code",
   "execution_count": null,
   "metadata": {},
   "outputs": [],
   "source": [
    "%load_ext autoreload\n",
    "%autoreload 2\n",
    "\n",
    "from decouple import config\n",
    "from fastembed import (\n",
    "    TextEmbedding, \n",
    "    SparseTextEmbedding, \n",
    "    LateInteractionTextEmbedding\n",
    ")\n",
    "from qdrant_client import QdrantClient\n",
    "from qdrant_client.models import (\n",
    "    Distance,\n",
    "    Fusion,\n",
    "    VectorParams, \n",
    "    SparseVectorParams,\n",
    "    SparseIndexParams,\n",
    "    MultiVectorConfig,\n",
    "    MultiVectorComparator,\n",
    "    Modifier,\n",
    "    HnswConfigDiff\n",
    ")\n",
    "from ranx import Qrels, Run, evaluate\n",
    "\n",
    "from rag.models import (\n",
    "    DenseModelConfig, \n",
    "    SparseModelConfig,\n",
    "    RerankingModelConfig,\n",
    "    DenseSearchManager,\n",
    "    SparseSearchManager,\n",
    "    HybridFusionSearchManager, \n",
    "    HybridRerankingSearchManager, \n",
    "    Metadata\n",
    ")\n",
    "from rag.utils import load_datasets\n",
    "\n",
    "\n",
    "QDRANT_URL = config('QDRANT_URL')\n",
    "QDRANT_API_KEY = config('QDRANT_API_KEY')\n",
    "NVIDIA_API_KEY = config('NVIDIA_API_KEY')\n",
    "CUDA=config('CUDA', cast=bool)\n",
    "PROVIDER = 'CUDAExecutionProvider' if CUDA else 'CPUExecutionProvider'"
   ]
  },
  {
   "cell_type": "markdown",
   "metadata": {},
   "source": [
    "### Client"
   ]
  },
  {
   "cell_type": "code",
   "execution_count": 2,
   "metadata": {},
   "outputs": [
    {
     "name": "stdout",
     "output_type": "stream",
     "text": [
      "collections=[CollectionDescription(name='dense_collection'), CollectionDescription(name='fusion_collection2'), CollectionDescription(name='fusion_collection'), CollectionDescription(name='dense_collection2'), CollectionDescription(name='reranking_collection2'), CollectionDescription(name='sparse_collection2'), CollectionDescription(name='reranking_collection'), CollectionDescription(name='sparse_collection')]\n"
     ]
    }
   ],
   "source": [
    "qdrant_client = QdrantClient(\n",
    "    url=QDRANT_URL, \n",
    "    api_key=QDRANT_API_KEY,\n",
    ")\n",
    "\n",
    "print(qdrant_client.get_collections())"
   ]
  },
  {
   "cell_type": "markdown",
   "metadata": {},
   "source": [
    "### Models"
   ]
  },
  {
   "cell_type": "code",
   "execution_count": 3,
   "metadata": {},
   "outputs": [
    {
     "name": "stderr",
     "output_type": "stream",
     "text": [
      "c:\\Users\\lukap\\AppData\\Local\\pypoetry\\Cache\\virtualenvs\\rag-LTDKTwC4-py3.12\\Lib\\site-packages\\fastembed\\common\\onnx_model.py:96: RuntimeWarning: Attempt to set CUDAExecutionProvider failed. Current providers: ['CPUExecutionProvider'].If you are using CUDA 12.x, install onnxruntime-gpu via `pip install onnxruntime-gpu --extra-index-url https://aiinfra.pkgs.visualstudio.com/PublicPackages/_packaging/onnxruntime-cuda-12/pypi/simple/`\n",
      "  warnings.warn(\n"
     ]
    }
   ],
   "source": [
    "dense_model_name = 'BAAI/bge-small-en-v1.5'\n",
    "dense_model = TextEmbedding(\n",
    "    model_name=dense_model_name,\n",
    "    providers=[PROVIDER]\n",
    ")\n",
    "\n",
    "sparse_model_name = 'Qdrant/bm25'\n",
    "sparse_model = SparseTextEmbedding(\n",
    "    model_name=sparse_model_name,\n",
    "    providers=[PROVIDER],\n",
    "    k1=1.5,\n",
    "    b=0.75\n",
    ")\n",
    "\n",
    "reranking_model_name = 'colbert-ir/colbertv2.0'\n",
    "reranking_model = LateInteractionTextEmbedding(\n",
    "    model_name=reranking_model_name,\n",
    "    providers=[PROVIDER]\n",
    ")\n",
    "\n",
    "dense_model_config = DenseModelConfig(\n",
    "    name=dense_model_name,\n",
    "    vector_params=VectorParams(\n",
    "        size=384,\n",
    "        distance=Distance.COSINE,\n",
    "        hnsw_config=HnswConfigDiff(\n",
    "            m=16,\n",
    "            ef_construct=128,\n",
    "            on_disk=True\n",
    "        ),\n",
    "        on_disk=True\n",
    "    )\n",
    ")\n",
    "\n",
    "sparse_model_config = SparseModelConfig(\n",
    "    name=sparse_model_name,\n",
    "    sparse_vector_params=SparseVectorParams(\n",
    "        index=SparseIndexParams(\n",
    "            on_disk=True\n",
    "        ),\n",
    "        modifier=Modifier.IDF\n",
    "    )\n",
    ")\n",
    "\n",
    "reranking_model_config = RerankingModelConfig(\n",
    "    name=reranking_model_name,\n",
    "    vector_params=VectorParams(\n",
    "        size=128,\n",
    "        distance=Distance.COSINE,\n",
    "        hnsw_config=HnswConfigDiff(\n",
    "            m=0     # disable HNSW\n",
    "        ),\n",
    "        on_disk=True,\n",
    "        multivector_config=MultiVectorConfig(\n",
    "            comparator=MultiVectorComparator.MAX_SIM,\n",
    "        )\n",
    "    )\n",
    ")"
   ]
  },
  {
   "cell_type": "markdown",
   "metadata": {},
   "source": [
    "### Documents"
   ]
  },
  {
   "cell_type": "code",
   "execution_count": 4,
   "metadata": {},
   "outputs": [
    {
     "name": "stdout",
     "output_type": "stream",
     "text": [
      "104 109 111\n"
     ]
    }
   ],
   "source": [
    "corpus_df, queries_df, qrels_df = load_datasets(5_000, 5_000)\n",
    "\n",
    "print(len(corpus_df), len(queries_df), len(qrels_df))"
   ]
  },
  {
   "cell_type": "code",
   "execution_count": 18,
   "metadata": {},
   "outputs": [
    {
     "data": {
      "text/plain": [
       "104"
      ]
     },
     "execution_count": 18,
     "metadata": {},
     "output_type": "execute_result"
    }
   ],
   "source": [
    "len(corpus_df)"
   ]
  },
  {
   "cell_type": "code",
   "execution_count": 10,
   "metadata": {},
   "outputs": [
    {
     "data": {
      "text/html": [
       "<div>\n",
       "<style scoped>\n",
       "    .dataframe tbody tr th:only-of-type {\n",
       "        vertical-align: middle;\n",
       "    }\n",
       "\n",
       "    .dataframe tbody tr th {\n",
       "        vertical-align: top;\n",
       "    }\n",
       "\n",
       "    .dataframe thead th {\n",
       "        text-align: right;\n",
       "    }\n",
       "</style>\n",
       "<table border=\"1\" class=\"dataframe\">\n",
       "  <thead>\n",
       "    <tr style=\"text-align: right;\">\n",
       "      <th></th>\n",
       "      <th>_id</th>\n",
       "      <th>title</th>\n",
       "      <th>text</th>\n",
       "    </tr>\n",
       "  </thead>\n",
       "  <tbody>\n",
       "    <tr>\n",
       "      <th>0</th>\n",
       "      <td>307</td>\n",
       "      <td>Abraham Lincoln</td>\n",
       "      <td>Abraham Lincoln ( ; February 12, 1809 – April ...</td>\n",
       "    </tr>\n",
       "    <tr>\n",
       "      <th>1</th>\n",
       "      <td>628</td>\n",
       "      <td>Aldous Huxley</td>\n",
       "      <td>Aldous Leonard Huxley ( ; 26 July 1894 – 22 No...</td>\n",
       "    </tr>\n",
       "    <tr>\n",
       "      <th>2</th>\n",
       "      <td>844</td>\n",
       "      <td>Amsterdam</td>\n",
       "      <td>Amsterdam ( ; ] ) is the capital and most popu...</td>\n",
       "    </tr>\n",
       "  </tbody>\n",
       "</table>\n",
       "</div>"
      ],
      "text/plain": [
       "   _id            title                                               text\n",
       "0  307  Abraham Lincoln  Abraham Lincoln ( ; February 12, 1809 – April ...\n",
       "1  628    Aldous Huxley  Aldous Leonard Huxley ( ; 26 July 1894 – 22 No...\n",
       "2  844        Amsterdam  Amsterdam ( ; ] ) is the capital and most popu..."
      ]
     },
     "execution_count": 10,
     "metadata": {},
     "output_type": "execute_result"
    }
   ],
   "source": [
    "corpus_df[:3]"
   ]
  },
  {
   "cell_type": "code",
   "execution_count": 11,
   "metadata": {},
   "outputs": [
    {
     "data": {
      "text/html": [
       "<div>\n",
       "<style scoped>\n",
       "    .dataframe tbody tr th:only-of-type {\n",
       "        vertical-align: middle;\n",
       "    }\n",
       "\n",
       "    .dataframe tbody tr th {\n",
       "        vertical-align: top;\n",
       "    }\n",
       "\n",
       "    .dataframe thead th {\n",
       "        text-align: right;\n",
       "    }\n",
       "</style>\n",
       "<table border=\"1\" class=\"dataframe\">\n",
       "  <thead>\n",
       "    <tr style=\"text-align: right;\">\n",
       "      <th></th>\n",
       "      <th>_id</th>\n",
       "      <th>title</th>\n",
       "      <th>text</th>\n",
       "    </tr>\n",
       "  </thead>\n",
       "  <tbody>\n",
       "    <tr>\n",
       "      <th>0</th>\n",
       "      <td>5ac3b95755429939154138e6</td>\n",
       "      <td></td>\n",
       "      <td>What language family is the language of the tr...</td>\n",
       "    </tr>\n",
       "    <tr>\n",
       "      <th>1</th>\n",
       "      <td>5abee3d95542994516f4546c</td>\n",
       "      <td></td>\n",
       "      <td>Which of the following is acclaimed for his \"l...</td>\n",
       "    </tr>\n",
       "    <tr>\n",
       "      <th>2</th>\n",
       "      <td>5a8c4c8e554299585d9e3652</td>\n",
       "      <td></td>\n",
       "      <td>Filipino sitcom Iskul Bukol had a theme song t...</td>\n",
       "    </tr>\n",
       "  </tbody>\n",
       "</table>\n",
       "</div>"
      ],
      "text/plain": [
       "                        _id title  \\\n",
       "0  5ac3b95755429939154138e6         \n",
       "1  5abee3d95542994516f4546c         \n",
       "2  5a8c4c8e554299585d9e3652         \n",
       "\n",
       "                                                text  \n",
       "0  What language family is the language of the tr...  \n",
       "1  Which of the following is acclaimed for his \"l...  \n",
       "2  Filipino sitcom Iskul Bukol had a theme song t...  "
      ]
     },
     "execution_count": 11,
     "metadata": {},
     "output_type": "execute_result"
    }
   ],
   "source": [
    "queries_df[:3]"
   ]
  },
  {
   "cell_type": "code",
   "execution_count": 12,
   "metadata": {},
   "outputs": [
    {
     "data": {
      "text/html": [
       "<div>\n",
       "<style scoped>\n",
       "    .dataframe tbody tr th:only-of-type {\n",
       "        vertical-align: middle;\n",
       "    }\n",
       "\n",
       "    .dataframe tbody tr th {\n",
       "        vertical-align: top;\n",
       "    }\n",
       "\n",
       "    .dataframe thead th {\n",
       "        text-align: right;\n",
       "    }\n",
       "</style>\n",
       "<table border=\"1\" class=\"dataframe\">\n",
       "  <thead>\n",
       "    <tr style=\"text-align: right;\">\n",
       "      <th></th>\n",
       "      <th>query-id</th>\n",
       "      <th>corpus-id</th>\n",
       "      <th>score</th>\n",
       "    </tr>\n",
       "  </thead>\n",
       "  <tbody>\n",
       "    <tr>\n",
       "      <th>101</th>\n",
       "      <td>5ac3b95755429939154138e6</td>\n",
       "      <td>7222</td>\n",
       "      <td>1</td>\n",
       "    </tr>\n",
       "    <tr>\n",
       "      <th>137</th>\n",
       "      <td>5abee3d95542994516f4546c</td>\n",
       "      <td>2310</td>\n",
       "      <td>1</td>\n",
       "    </tr>\n",
       "    <tr>\n",
       "      <th>203</th>\n",
       "      <td>5a8c4c8e554299585d9e3652</td>\n",
       "      <td>9288</td>\n",
       "      <td>1</td>\n",
       "    </tr>\n",
       "  </tbody>\n",
       "</table>\n",
       "</div>"
      ],
      "text/plain": [
       "                     query-id  corpus-id  score\n",
       "101  5ac3b95755429939154138e6       7222      1\n",
       "137  5abee3d95542994516f4546c       2310      1\n",
       "203  5a8c4c8e554299585d9e3652       9288      1"
      ]
     },
     "execution_count": 12,
     "metadata": {},
     "output_type": "execute_result"
    }
   ],
   "source": [
    "qrels_df[:3]"
   ]
  },
  {
   "cell_type": "code",
   "execution_count": 34,
   "metadata": {},
   "outputs": [],
   "source": [
    "corpus_texts: list[str] = corpus_df['text'].values.tolist()\n",
    "metadatas = [\n",
    "    Metadata(\n",
    "        id=row['_id'],\n",
    "        text=row['text']\n",
    "    )\n",
    "    for _, row in corpus_df.iterrows()\n",
    "]\n",
    "\n",
    "dense_embeddings = list(dense_model.embed(corpus_texts))\n",
    "sparse_embeddings = list(sparse_model.embed(corpus_texts))\n",
    "reranking_embeddings = list(reranking_model.embed(corpus_texts))"
   ]
  },
  {
   "cell_type": "markdown",
   "metadata": {},
   "source": [
    "### Indexing"
   ]
  },
  {
   "cell_type": "code",
   "execution_count": 32,
   "metadata": {},
   "outputs": [],
   "source": [
    "dense_collection_name = 'dense_collection2'\n",
    "sparse_collection_name = 'sparse_collection2'\n",
    "fusion_collection_name = 'fusion_collection2'\n",
    "reranking_collection_name = 'reranking_collection2'"
   ]
  },
  {
   "cell_type": "markdown",
   "metadata": {},
   "source": [
    "#### Dense"
   ]
  },
  {
   "cell_type": "code",
   "execution_count": null,
   "metadata": {},
   "outputs": [],
   "source": [
    "dense_search = DenseSearchManager(\n",
    "    qdrant_client=qdrant_client, \n",
    "    dense_model_config=dense_model_config\n",
    ")\n",
    "\n",
    "dense_search.create_collection(dense_collection_name)\n",
    "dense_search.upsert(\n",
    "    dense_collection_name,\n",
    "    dense_embeddings,\n",
    "    metadatas\n",
    ")"
   ]
  },
  {
   "cell_type": "markdown",
   "metadata": {},
   "source": [
    "#### Sparse"
   ]
  },
  {
   "cell_type": "code",
   "execution_count": 20,
   "metadata": {},
   "outputs": [
    {
     "data": {
      "text/plain": [
       "'completed'"
      ]
     },
     "execution_count": 20,
     "metadata": {},
     "output_type": "execute_result"
    }
   ],
   "source": [
    "sparse_search = SparseSearchManager(\n",
    "    qdrant_client=qdrant_client, \n",
    "    sparse_model_config=sparse_model_config\n",
    ")\n",
    "\n",
    "sparse_search.create_collection(sparse_collection_name)\n",
    "sparse_search.upsert(\n",
    "    sparse_collection_name,\n",
    "    sparse_embeddings,\n",
    "    metadatas\n",
    ")"
   ]
  },
  {
   "cell_type": "markdown",
   "metadata": {},
   "source": [
    "#### Hybrid - Fusion"
   ]
  },
  {
   "cell_type": "code",
   "execution_count": 21,
   "metadata": {},
   "outputs": [
    {
     "data": {
      "text/plain": [
       "'completed'"
      ]
     },
     "execution_count": 21,
     "metadata": {},
     "output_type": "execute_result"
    }
   ],
   "source": [
    "fusion_search = HybridFusionSearchManager(\n",
    "    qdrant_client=qdrant_client, \n",
    "    dense_model_config=dense_model_config,\n",
    "    sparse_model_config=sparse_model_config\n",
    ")\n",
    "\n",
    "fusion_search.create_collection(fusion_collection_name)\n",
    "fusion_search.upsert(\n",
    "    fusion_collection_name, \n",
    "    dense_embeddings, \n",
    "    sparse_embeddings,\n",
    "    metadatas\n",
    ")"
   ]
  },
  {
   "cell_type": "markdown",
   "metadata": {},
   "source": [
    "#### Hybrid - Reranking"
   ]
  },
  {
   "cell_type": "code",
   "execution_count": 48,
   "metadata": {},
   "outputs": [
    {
     "data": {
      "text/plain": [
       "True"
      ]
     },
     "execution_count": 48,
     "metadata": {},
     "output_type": "execute_result"
    }
   ],
   "source": [
    "qdrant_client.create_collection(\n",
    "    collection_name=\"movies\",\n",
    "    vectors_config=VectorParams(\n",
    "        size=128, #size of each vector produced by ColBERT\n",
    "        distance=Distance.COSINE, #similarity metric between each vector\n",
    "        multivector_config=MultiVectorConfig(\n",
    "            comparator=MultiVectorComparator.MAX_SIM #similarity metric between multivectors (matrices)\n",
    "        ),\n",
    "    ),\n",
    ")\n",
    "\n"
   ]
  },
  {
   "cell_type": "code",
   "execution_count": 63,
   "metadata": {},
   "outputs": [],
   "source": [
    "import numpy as np\n",
    "\n",
    "duplicated_flattened = reranking_embeddings * 8"
   ]
  },
  {
   "cell_type": "code",
   "execution_count": 67,
   "metadata": {},
   "outputs": [],
   "source": [
    "from qdrant_client.models import PointStruct\n",
    "\n",
    "qdrant_client.upload_points(\n",
    "    collection_name=\"movies\",\n",
    "    points=[\n",
    "        PointStruct(\n",
    "            id=idx,\n",
    "            payload={\n",
    "                'text': 'bla',\n",
    "            },\n",
    "            vector=vector\n",
    "        )\n",
    "        for idx, vector in enumerate(duplicated_flattened)\n",
    "    ],\n",
    ")"
   ]
  },
  {
   "cell_type": "code",
   "execution_count": null,
   "metadata": {},
   "outputs": [],
   "source": [
    "reranking_search = HybridRerankingSearchManager(\n",
    "    qdrant_client=qdrant_client, \n",
    "    dense_model_config=dense_model_config,\n",
    "    sparse_model_config=sparse_model_config,\n",
    "    reranking_model_config=reranking_model_config\n",
    ")\n",
    "\n",
    "reranking_search.create_collection(reranking_collection_name)\n",
    "reranking_search.upsert(\n",
    "    reranking_collection_name, \n",
    "    dense_embeddings, \n",
    "    sparse_embeddings,\n",
    "    reranking_embeddings,\n",
    "    metadatas\n",
    ")"
   ]
  },
  {
   "cell_type": "markdown",
   "metadata": {},
   "source": [
    "### Query"
   ]
  },
  {
   "cell_type": "code",
   "execution_count": 7,
   "metadata": {},
   "outputs": [],
   "source": [
    "query_texts: list[str] = queries_df['text'].values.tolist()\n",
    "\n",
    "query_dense_embeddings = list(dense_model.embed(query_texts))\n",
    "query_sparse_embeddings = list(sparse_model.embed(query_texts))\n",
    "query_reranking_embeddings = list(reranking_model.embed(query_texts))"
   ]
  },
  {
   "cell_type": "code",
   "execution_count": null,
   "metadata": {},
   "outputs": [],
   "source": [
    "# TODO how to evaluate and handle multiple points for each question"
   ]
  },
  {
   "cell_type": "markdown",
   "metadata": {},
   "source": [
    "### Search"
   ]
  },
  {
   "cell_type": "code",
   "execution_count": 8,
   "metadata": {},
   "outputs": [],
   "source": [
    "top_k = 5"
   ]
  },
  {
   "cell_type": "markdown",
   "metadata": {},
   "source": [
    "#### Dense"
   ]
  },
  {
   "cell_type": "code",
   "execution_count": 14,
   "metadata": {},
   "outputs": [
    {
     "name": "stdout",
     "output_type": "stream",
     "text": [
      "id='abe66f13-361d-4205-a4b0-92006f8b5efd' version=0 score=0.6729106 payload={'id': 7222, 'text': 'The Choctaw (In the Choctaw language, Chahta) are a Native American people originally occupying what is now the Southeastern United States (modern-day Alabama, Florida, Mississippi, and Louisiana). Their Choctaw language belongs to the Muskogean language family group.'} vector=None shard_key=None order_value=None\n",
      "id='bba3ee6b-8818-4335-a61f-d6b3c5fb178e' version=0 score=0.63985586 payload={'id': 2303, 'text': 'Aramaic (אַרָמָיָא \"Arāmāyā\", Syriac: ܐܪܡܝܐ\\u200e , Arabic: آرامية\\u200e \\u200e ) is a language or group of languages belonging to the Semitic subfamily of the Afroasiatic language family. More specifically, it is part of the Northwest Semitic group, which also includes the Canaanite languages such as Hebrew and Phoenician. The Aramaic alphabet was widely adopted for other languages and is ancestral to the Hebrew, Syriac and Arabic alphabets.'} vector=None shard_key=None order_value=None\n",
      "id='28572bfc-7a23-4114-b1c6-ea6e84808cb7' version=0 score=0.58219445 payload={'id': 628, 'text': 'Aldous Leonard Huxley ( ; 26 July 1894 – 22 November 1963) was an English writer, novelist, philosopher, and prominent member of the Huxley family. He graduated from Balliol College at the University of Oxford with a first-class honours in English literature.'} vector=None shard_key=None order_value=None\n"
     ]
    }
   ],
   "source": [
    "dense_scored_points_list = [\n",
    "    dense_search.search(\n",
    "        dense_collection_name,\n",
    "        query_dense_embedding,\n",
    "        top_k\n",
    "    )\n",
    "    for query_dense_embedding in query_dense_embeddings\n",
    "]\n",
    "\n",
    "print(*dense_scored_points_list[0][:3], sep='\\n')"
   ]
  },
  {
   "cell_type": "markdown",
   "metadata": {},
   "source": [
    "#### Sparse"
   ]
  },
  {
   "cell_type": "code",
   "execution_count": 13,
   "metadata": {},
   "outputs": [
    {
     "name": "stdout",
     "output_type": "stream",
     "text": [
      "id='2bd53b67-23b4-4a84-8f47-12782ef07e2a' version=0 score=4.1631217 payload={'id': 1, 'text': 'FastEmbed is lighter than Transformers & Sentence-Transformers.'} vector=None shard_key=None order_value=None\n"
     ]
    }
   ],
   "source": [
    "sparse_scored_points = sparse_search.search(\n",
    "    sparse_collection_name,\n",
    "    query_sparse_embedding,\n",
    "    1\n",
    ")\n",
    "\n",
    "print(*sparse_scored_points, sep='\\n')"
   ]
  },
  {
   "cell_type": "markdown",
   "metadata": {},
   "source": [
    "#### Hybrid - Fusion"
   ]
  },
  {
   "cell_type": "code",
   "execution_count": 14,
   "metadata": {},
   "outputs": [
    {
     "name": "stdout",
     "output_type": "stream",
     "text": [
      "id='2c0b2e24-1435-451c-8dc0-298e1c710e53' version=0 score=1.0 payload={'id': 1, 'text': 'FastEmbed is lighter than Transformers & Sentence-Transformers.'} vector=None shard_key=None order_value=None\n"
     ]
    }
   ],
   "source": [
    "fusion_scored_points = fusion_search.search(\n",
    "    fusion_collection_name,\n",
    "    query_dense_embedding,\n",
    "    query_sparse_embedding,\n",
    "    Fusion.RRF,\n",
    "    1\n",
    ")\n",
    "\n",
    "print(*fusion_scored_points, sep='\\n')"
   ]
  },
  {
   "cell_type": "markdown",
   "metadata": {},
   "source": [
    "#### Hybrid - Reranking"
   ]
  },
  {
   "cell_type": "code",
   "execution_count": 15,
   "metadata": {},
   "outputs": [
    {
     "name": "stdout",
     "output_type": "stream",
     "text": [
      "id='2d78e6a2-e0a4-4380-afe8-7d054612d469' version=0 score=5.8587246 payload={'id': 1, 'text': 'FastEmbed is lighter than Transformers & Sentence-Transformers.'} vector=None shard_key=None order_value=None\n"
     ]
    }
   ],
   "source": [
    "reranking_scored_points = reranking_search.search(\n",
    "    reranking_collection_name,\n",
    "    query_dense_embedding,\n",
    "    query_sparse_embedding,\n",
    "    query_reranking_embedding,\n",
    "    2,\n",
    "    1\n",
    ")\n",
    "\n",
    "print(*reranking_scored_points, sep='\\n')"
   ]
  },
  {
   "cell_type": "markdown",
   "metadata": {},
   "source": [
    "### Evaluate"
   ]
  },
  {
   "cell_type": "code",
   "execution_count": 15,
   "metadata": {},
   "outputs": [],
   "source": [
    "qrels_dict = {}\n",
    "\n",
    "for _, row in qrels_df.iterrows():\n",
    "    query_id = row['query-id']\n",
    "    corpus_id = str(row['corpus-id'])\n",
    "    relevance = int(row['score'])\n",
    "    \n",
    "    if query_id not in qrels_dict:\n",
    "        qrels_dict[query_id] = {}\n",
    "\n",
    "    qrels_dict[query_id][corpus_id] = relevance"
   ]
  },
  {
   "cell_type": "code",
   "execution_count": 31,
   "metadata": {},
   "outputs": [
    {
     "name": "stdout",
     "output_type": "stream",
     "text": [
      "0.9481393103951706\n"
     ]
    }
   ],
   "source": [
    "runs_dict = {}\n",
    "\n",
    "for i, query_id in enumerate(queries_df['_id'].values):\n",
    "    runs_dict[query_id] = {}\n",
    "    \n",
    "    for scored_point in dense_scored_points_list[i]:\n",
    "        doc_id = str(scored_point.payload['id'])\n",
    "        runs_dict[query_id][doc_id] = float(scored_point.score)\n",
    "\n",
    "qrels_ranx = Qrels(qrels_dict)\n",
    "run_ranx = Run(runs_dict)\n",
    "\n",
    "results = evaluate(qrels_ranx, run_ranx, metrics=[f'ndcg@{top_k}'])\n",
    "\n",
    "print(results)"
   ]
  },
  {
   "cell_type": "code",
   "execution_count": null,
   "metadata": {},
   "outputs": [],
   "source": [
    "metrics = [\n",
    "    'mrr',\n",
    "    'map',\n",
    "    f'precision@{top_k}',\n",
    "    f'recall@{top_k}',\n",
    "    f'ndcg@{top_k}'\n",
    "]"
   ]
  }
 ],
 "metadata": {
  "kernelspec": {
   "display_name": "rag-LTDKTwC4-py3.12",
   "language": "python",
   "name": "python3"
  },
  "language_info": {
   "codemirror_mode": {
    "name": "ipython",
    "version": 3
   },
   "file_extension": ".py",
   "mimetype": "text/x-python",
   "name": "python",
   "nbconvert_exporter": "python",
   "pygments_lexer": "ipython3",
   "version": "3.12.3"
  }
 },
 "nbformat": 4,
 "nbformat_minor": 2
}
