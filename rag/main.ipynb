{
 "cells": [
  {
   "cell_type": "code",
   "execution_count": 1,
   "metadata": {},
   "outputs": [],
   "source": [
    "from decouple import config\n",
    "from qdrant_client import QdrantClient\n",
    "\n",
    "\n",
    "QDRANT_URL = config('QDRANT_URL')\n",
    "QDRANT_API_KEY = config('QDRANT_API_KEY')"
   ]
  },
  {
   "cell_type": "code",
   "execution_count": null,
   "metadata": {},
   "outputs": [],
   "source": [
    "from datasets import load_dataset\n",
    "from datasets import get_dataset_config_info\n",
    "from pandas import DataFrame\n",
    "\n",
    "\n",
    "def get_row_count(config_name: str):\n",
    "    dataset_info = get_dataset_config_info('BeIR/hotpotqa', config_name=config_name)\n",
    "    \n",
    "    return  dataset_info.splits[config_name].num_examples\n",
    "\n",
    "def get_corpus_queries_qrels(corpus_count: int, queries_count: int) -> tuple[DataFrame, DataFrame, DataFrame]:\n",
    "    max_corpus_count = get_row_count('corpus')\n",
    "    max_query_count = get_row_count('queries')\n",
    "    \n",
    "    if corpus_count > max_corpus_count or queries_count > max_query_count:\n",
    "        raise ValueError()\n",
    "    \n",
    "    # load\n",
    "    corpus = load_dataset('BeIR/hotpotqa', 'corpus', split=f'corpus[:{corpus_count}]')\n",
    "    queries = load_dataset('BeIR/hotpotqa', 'queries', split=f'queries[:{queries_count}]')\n",
    "    qrels = load_dataset('BeIR/hotpotqa-qrels')\n",
    "\n",
    "    # filter\n",
    "    query_ids_set = set(queries['_id'])\n",
    "    corpus_ids_set = set(corpus['_id'])\n",
    "\n",
    "    qrels_df = qrels['train'].to_pandas()\n",
    "    filtered_qrels_df = qrels_df[\n",
    "        qrels_df['corpus-id'].astype(str).isin(corpus_ids_set) &\n",
    "        qrels_df['query-id'].isin(query_ids_set)\n",
    "    ]\n",
    "\n",
    "    unique_corpus_ids = set(filtered_qrels_df['corpus-id'].astype(str))\n",
    "    unique_query_ids = set(filtered_qrels_df['query-id'])\n",
    "\n",
    "    filtered_corpus = corpus.filter(lambda x: x['_id'] in unique_corpus_ids)\n",
    "    filtered_queries = queries.filter(lambda x: x['_id'] in unique_query_ids)\n",
    "    \n",
    "    filtered_corpus_df = filtered_corpus.to_pandas()\n",
    "    filtered_queries_df = filtered_queries.to_pandas()\n",
    "    \n",
    "    return filtered_corpus_df, filtered_queries_df, filtered_qrels_df"
   ]
  },
  {
   "cell_type": "code",
   "execution_count": 2,
   "metadata": {},
   "outputs": [
    {
     "name": "stdout",
     "output_type": "stream",
     "text": [
      "collections=[]\n"
     ]
    }
   ],
   "source": [
    "qdrant_client = QdrantClient(\n",
    "    url=QDRANT_URL, \n",
    "    api_key=QDRANT_API_KEY,\n",
    ")\n",
    "\n",
    "print(qdrant_client.get_collections())"
   ]
  },
  {
   "cell_type": "code",
   "execution_count": 7,
   "metadata": {},
   "outputs": [],
   "source": [
    "from fastembed import (\n",
    "    TextEmbedding, \n",
    "    SparseTextEmbedding, \n",
    "    LateInteractionTextEmbedding\n",
    ")\n",
    "\n",
    "\n",
    "documents = [\n",
    "    'FastEmbed is lighter than Transformers & Sentence-Transformers.',\n",
    "    'FastEmbed is supported by and maintained by Qdrant.',\n",
    "]"
   ]
  },
  {
   "cell_type": "code",
   "execution_count": null,
   "metadata": {},
   "outputs": [],
   "source": [
    "from qdrant_client.models import (\n",
    "    Distance, \n",
    "    VectorParams, \n",
    "    SparseVectorParams, \n",
    "    MultiVectorConfig,\n",
    "    MultiVectorComparator,\n",
    "    Modifier\n",
    ")\n",
    "\n",
    "from .models.config import (\n",
    "    DenseModelConfig, \n",
    "    SparseModelConfig,\n",
    "    RerankingModelConfig\n",
    ")\n",
    "\n",
    "COLLECTION_NAME = ...\n",
    "\n",
    "dense_model_name = 'BAAI/bge-small-en-v1.5'\n",
    "dense_model = TextEmbedding(model_name=dense_model_name)\n",
    "\n",
    "sparse_model_name = 'Qdrant/bm25'\n",
    "sparse_model = SparseTextEmbedding(\n",
    "    model_name=sparse_model_name,\n",
    "    k1=1.5,\n",
    "    b=0.75\n",
    ")\n",
    "\n",
    "reranking_model_name = 'colbert-ir/colbertv2.0'\n",
    "reranking_model = LateInteractionTextEmbedding(reranking_model_name)\n",
    "\n",
    "dense_model_config = DenseModelConfig(\n",
    "    name=dense_model_name,\n",
    "    vector_params=VectorParams(\n",
    "        size=384,\n",
    "        distance=Distance.COSINE,\n",
    "    )\n",
    ")\n",
    "\n",
    "sparse_model_config = SparseModelConfig(\n",
    "    name=sparse_model_name,\n",
    "    sparse_vector_params=SparseVectorParams(modifier=Modifier.IDF)\n",
    ")\n",
    "\n",
    "reranking_model_config = RerankingModelConfig(\n",
    "    name=reranking_model_name,\n",
    "    vector_params=VectorParams(\n",
    "        size=100,\n",
    "        distance=Distance.COSINE,\n",
    "        multivector_config=MultiVectorConfig(\n",
    "            comparator=MultiVectorComparator.MAX_SIM,\n",
    "        )\n",
    "    )\n",
    ")"
   ]
  },
  {
   "cell_type": "code",
   "execution_count": null,
   "metadata": {},
   "outputs": [],
   "source": [
    "dense_embeddings = list(dense_model.embed(documents))\n",
    "sparse_embeddings = list(sparse_model.embed(documents))\n",
    "reranking_embeddings = list(reranking_model.embed(documents))"
   ]
  },
  {
   "cell_type": "code",
   "execution_count": null,
   "metadata": {},
   "outputs": [],
   "source": [
    "import json\n",
    "from fastembed.sparse import SparseEmbedding\n",
    "from tokenizers import Tokenizer\n",
    "\n",
    "\n",
    "def get_tokens_and_weights(sparse_embedding: SparseEmbedding, tokenizer: Tokenizer) -> dict:\n",
    "    token_weight_dict = {}\n",
    "    \n",
    "    for i in range(len(sparse_embedding.indices)):\n",
    "        token = tokenizer.decode([sparse_embedding.indices[i]])\n",
    "        weight = sparse_embedding.values[i]\n",
    "        token_weight_dict[token] = weight\n",
    "\n",
    "    # Sort the dictionary by weights\n",
    "    token_weight_dict = dict(sorted(token_weight_dict.items(), key=lambda item: item[1], reverse=True))\n",
    "    \n",
    "    return token_weight_dict\n",
    "\n",
    "\n",
    "tokenizer = Tokenizer.from_pretrained('Qdrant/SPLADE_PP_en_v1')\n",
    "index = 0\n",
    "print(json.dumps(get_tokens_and_weights(sparse_embeddings[index], tokenizer), indent=4))"
   ]
  }
 ],
 "metadata": {
  "kernelspec": {
   "display_name": "rag-LTDKTwC4-py3.12",
   "language": "python",
   "name": "python3"
  },
  "language_info": {
   "codemirror_mode": {
    "name": "ipython",
    "version": 3
   },
   "file_extension": ".py",
   "mimetype": "text/x-python",
   "name": "python",
   "nbconvert_exporter": "python",
   "pygments_lexer": "ipython3",
   "version": "3.12.3"
  }
 },
 "nbformat": 4,
 "nbformat_minor": 2
}
