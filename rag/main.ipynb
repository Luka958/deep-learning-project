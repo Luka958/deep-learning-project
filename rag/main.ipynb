{
 "cells": [
  {
   "cell_type": "code",
   "execution_count": 1,
   "metadata": {},
   "outputs": [],
   "source": [
    "from decouple import config\n",
    "\n",
    "\n",
    "QDRANT_URL = config('QDRANT_URL')\n",
    "QDRANT_API_KEY = config('QDRANT_API_KEY')\n"
   ]
  },
  {
   "cell_type": "code",
   "execution_count": null,
   "metadata": {},
   "outputs": [],
   "source": [
    "# https://qdrant.tech/documentation/quickstart/\n",
    "\n",
    "# NOTE best: https://qdrant.tech/documentation/search-precision/reranking-hybrid-search/"
   ]
  },
  {
   "cell_type": "code",
   "execution_count": 2,
   "metadata": {},
   "outputs": [
    {
     "name": "stdout",
     "output_type": "stream",
     "text": [
      "collections=[]\n"
     ]
    }
   ],
   "source": [
    "from qdrant_client import QdrantClient\n",
    "\n",
    "\n",
    "qdrant_client = QdrantClient(\n",
    "    url=QDRANT_URL, \n",
    "    api_key=QDRANT_API_KEY,\n",
    ")\n",
    "\n",
    "print(qdrant_client.get_collections())"
   ]
  },
  {
   "cell_type": "code",
   "execution_count": 3,
   "metadata": {},
   "outputs": [],
   "source": [
    "from fastembed import TextEmbedding\n",
    "\n",
    "\n",
    "documents = [\n",
    "    'FastEmbed is lighter than Transformers & Sentence-Transformers.',\n",
    "    'FastEmbed is supported by and maintained by Qdrant.',\n",
    "]"
   ]
  },
  {
   "cell_type": "code",
   "execution_count": 5,
   "metadata": {},
   "outputs": [
    {
     "name": "stderr",
     "output_type": "stream",
     "text": [
      "Fetching 5 files: 100%|██████████| 5/5 [00:06<00:00,  1.32s/it]\n"
     ]
    }
   ],
   "source": [
    "embedding_model = TextEmbedding(model_name='BAAI/bge-small-en-v1.5')"
   ]
  },
  {
   "cell_type": "code",
   "execution_count": null,
   "metadata": {},
   "outputs": [
    {
     "data": {
      "text/plain": [
       "384"
      ]
     },
     "execution_count": 8,
     "metadata": {},
     "output_type": "execute_result"
    }
   ],
   "source": [
    "# https://qdrant.tech/documentation/fastembed/fastembed-quickstart/\n",
    "\n",
    "embeddings = list(embedding_model.embed(documents))\n",
    "len(embeddings[0])  "
   ]
  },
  {
   "cell_type": "code",
   "execution_count": null,
   "metadata": {},
   "outputs": [],
   "source": [
    "from qdrant_client.models import (\n",
    "    Distance, \n",
    "    VectorParams, \n",
    "    SparseVectorParams, \n",
    "    SparseIndexParams, \n",
    "    MultiVectorConfig,\n",
    "    MultiVectorComparator,\n",
    "    Modifier\n",
    ")\n",
    "\n",
    "# https://qdrant.tech/articles/sparse-vectors/\n",
    "\n",
    "COLLECTION_NAME = ...\n",
    "\n",
    "qdrant_client.create_collection(\n",
    "    collection_name=COLLECTION_NAME,\n",
    "    vectors_config=VectorParams(size=384, distance=Distance.COSINE),    # TODO HNSW config\n",
    "    sparse_vectors_config={\n",
    "        'text': SparseVectorParams(\n",
    "            index=SparseIndexParams(\n",
    "                on_disk=True,\n",
    "            )\n",
    "        )\n",
    "    },\n",
    ")\n",
    "\n",
    "dense_model = ...\n",
    "sparse_model = ...\n",
    "reranking_model = ...\n",
    "\n",
    "qdrant_client.create_collection(\n",
    "    collection_name=COLLECTION_NAME,\n",
    "    vectors_config={\n",
    "        dense_model: VectorParams(\n",
    "            size=384,\n",
    "            distance=Distance.COSINE,\n",
    "        ),\n",
    "        reranking_model: VectorParams(\n",
    "            size=100,\n",
    "            distance=Distance.COSINE,\n",
    "            multivector_config=MultiVectorConfig(\n",
    "                comparator=MultiVectorComparator.MAX_SIM,\n",
    "            )\n",
    "        ),\n",
    "    },\n",
    "    sparse_vectors_config={\n",
    "        \"bm25\": SparseVectorParams(modifier=Modifier.IDF)\n",
    "    }\n",
    ")"
   ]
  },
  {
   "cell_type": "code",
   "execution_count": 5,
   "metadata": {},
   "outputs": [],
   "source": [
    "from pydantic import BaseModel\n",
    "\n",
    "\n",
    "class DenseModelConfig(BaseModel):\n",
    "    name: str\n",
    "    vector_params: VectorParams\n",
    "    \n",
    "class RerankingModelConfig(BaseModel):\n",
    "    name: str\n",
    "    vector_params: VectorParams\n",
    "    \n",
    "class SparseModelConfig(BaseModel):\n",
    "    name: str\n",
    "    sparse_vector_params: SparseVectorParams"
   ]
  },
  {
   "cell_type": "code",
   "execution_count": 3,
   "metadata": {},
   "outputs": [],
   "source": [
    "from qdrant_client.models import PointStruct, SearchParams, ScoredPoint\n",
    "from qdrant_client.models import Vector, SparseVector\n",
    "\n",
    "\n",
    "class HybridSearchMetadata(BaseModel):\n",
    "    id: str\n",
    "    text: str\n",
    "\n",
    "\n",
    "class HybridSearch(BaseModel):\n",
    "    qdrant_client: QdrantClient\n",
    "    dense_model_config: DenseModelConfig\n",
    "    sparse_model_config: SparseModelConfig\n",
    "    \n",
    "    def create_collection(self, collection_name: str):\n",
    "        self.qdrant_client.create_collection(\n",
    "            collection_name=collection_name,\n",
    "            vectors_config={\n",
    "                self.dense_model_config.name: self.dense_model_config.vector_params\n",
    "            },\n",
    "            sparse_vectors_config={\n",
    "                self.sparse_model_config.name: self.sparse_model_config.sparse_vector_params\n",
    "            }\n",
    "        )\n",
    "    \n",
    "    def delete_collection(self, collection_name: str):\n",
    "        self.qdrant_client.delete_collection(collection_name)\n",
    "        \n",
    "    def upsert(\n",
    "        self, \n",
    "        collection_name: str, \n",
    "        dense_embeddings: list[Vector], \n",
    "        sparse_embeddings: list[SparseVector], \n",
    "        metadatas: list[HybridSearchMetadata]\n",
    "    ) -> str:\n",
    "        items = zip(dense_embeddings, sparse_embeddings, metadatas)\n",
    "        \n",
    "        result = self.qdrant_client.upsert(\n",
    "            collection_name=collection_name,\n",
    "            wait=True,\n",
    "            points=[\n",
    "                PointStruct(\n",
    "                    id=metadata.id, \n",
    "                    vector={\n",
    "                        self.dense_model_config.name: dense_embedding,\n",
    "                        self.sparse_model_config.name: sparse_embedding\n",
    "                    },\n",
    "                    payload={\n",
    "                        'text': metadata.text\n",
    "                    }\n",
    "                )\n",
    "                for dense_embedding, sparse_embedding, metadata in items\n",
    "            ],\n",
    "        )\n",
    "        \n",
    "        return str(result.status)\n",
    "    \n",
    "    def search(\n",
    "        self, \n",
    "        collection_name: str, \n",
    "        dense_embedding: Vector, \n",
    "        sparse_embedding: SparseVector, \n",
    "        limit: int\n",
    "    ) -> list[ScoredPoint]:\n",
    "        return qdrant_client.search(\n",
    "            collection_name=collection_name,\n",
    "            query_vector={\n",
    "                self.dense_model_config.name: dense_embedding,\n",
    "                self.sparse_model_config.name: sparse_embedding\n",
    "            },\n",
    "            params=SearchParams(\n",
    "                hnsw_ef=128\n",
    "            ),\n",
    "            limit=limit,\n",
    "            with_payload=True\n",
    "        )"
   ]
  },
  {
   "cell_type": "code",
   "execution_count": null,
   "metadata": {},
   "outputs": [],
   "source": [
    "from qdrant_client.models import Filter, FieldCondition, MatchValue\n",
    "\n",
    "# finds items based on ids and filters, doesn't perform vector search\n",
    "search_result = qdrant_client.query_points(\n",
    "    collection_name=COLLECTION_NAME,\n",
    "    query=...,\n",
    "    #query_filter=Filter(\n",
    "    #    must=[FieldCondition(key='text', match=MatchValue(value=...))]  # metadata\n",
    "    #),\n",
    "    with_payload=False,\n",
    "    limit=3\n",
    ").points\n",
    "\n",
    "print(search_result)"
   ]
  },
  {
   "cell_type": "code",
   "execution_count": null,
   "metadata": {},
   "outputs": [],
   "source": [
    "from qdrant_client.models import SearchParams\n",
    "from qdrant_client.http.models import SparseSearchParams    # TODO\n",
    "\n",
    "\n",
    "result = qdrant_client.search(\n",
    "    collection_name=COLLECTION_NAME,\n",
    "    query_vector={\n",
    "        \"dense_vector\": [0.1, 0.2, 0.3],  # Dense vector\n",
    "        \"text\": {\"indices\": [5, 8], \"values\": [1.0, 0.8]}  # Sparse vector matching the key in sparse_vectors_config\n",
    "    },\n",
    "    query=None,  # Optional BM25-based text query if needed\n",
    "    params=SearchParams(\n",
    "        hnsw_ef=128,  # Controls recall for HNSW search\n",
    "    ),\n",
    "    limit=10,\n",
    "    with_payload=True,  # Return payload (e.g., text, metadata)\n",
    ")\n",
    "\n",
    "print(result)\n"
   ]
  },
  {
   "cell_type": "code",
   "execution_count": 18,
   "metadata": {},
   "outputs": [],
   "source": [
    "from fastembed import SparseTextEmbedding\n",
    "\n",
    "# Initialize the BM25 model with custom k1 and b parameters\n",
    "model = SparseTextEmbedding(\n",
    "    model_name=\"Qdrant/bm25\",\n",
    "    k1=1.5,  # Set your desired k1 value\n",
    "    b=0.75   # Set your desired b value\n",
    ")\n",
    "\n",
    "# Example documents\n",
    "documents = [\n",
    "    \"You should stay, study and sprint.\",\n",
    "    \"History can only prepare us to be surprised yet again.\",\n",
    "]\n",
    "\n",
    "# Generate embeddings\n",
    "embeddings = list(model.embed(documents))\n"
   ]
  },
  {
   "cell_type": "code",
   "execution_count": 8,
   "metadata": {},
   "outputs": [
    {
     "name": "stdout",
     "output_type": "stream",
     "text": [
      "[1.67868852 1.67868852 1.67868852] [1881538586  150760872 1932363795]\n",
      "[1.66973021 1.66973021 1.66973021 1.66973021 1.66973021] [ 733618285 1849833631 1008800696 2090661150 1117393019]\n"
     ]
    }
   ],
   "source": [
    "for x in embeddings:\n",
    "    print(x.values, x.indices)"
   ]
  },
  {
   "cell_type": "code",
   "execution_count": 4,
   "metadata": {},
   "outputs": [],
   "source": [
    "from fastembed import SparseTextEmbedding, SparseEmbedding\n",
    "\n",
    "# https://qdrant.tech/documentation/fastembed/fastembed-splade/"
   ]
  },
  {
   "cell_type": "code",
   "execution_count": 5,
   "metadata": {},
   "outputs": [
    {
     "data": {
      "text/plain": [
       "[{'model': 'prithivida/Splade_PP_en_v1',\n",
       "  'vocab_size': 30522,\n",
       "  'description': 'Independent Implementation of SPLADE++ Model for English.',\n",
       "  'license': 'apache-2.0',\n",
       "  'size_in_GB': 0.532,\n",
       "  'sources': {'hf': 'Qdrant/SPLADE_PP_en_v1'},\n",
       "  'model_file': 'model.onnx'},\n",
       " {'model': 'prithvida/Splade_PP_en_v1',\n",
       "  'vocab_size': 30522,\n",
       "  'description': 'Independent Implementation of SPLADE++ Model for English.',\n",
       "  'license': 'apache-2.0',\n",
       "  'size_in_GB': 0.532,\n",
       "  'sources': {'hf': 'Qdrant/SPLADE_PP_en_v1'},\n",
       "  'model_file': 'model.onnx'},\n",
       " {'model': 'Qdrant/bm42-all-minilm-l6-v2-attentions',\n",
       "  'vocab_size': 30522,\n",
       "  'description': 'Light sparse embedding model, which assigns an importance score to each token in the text',\n",
       "  'license': 'apache-2.0',\n",
       "  'size_in_GB': 0.09,\n",
       "  'sources': {'hf': 'Qdrant/all_miniLM_L6_v2_with_attentions'},\n",
       "  'model_file': 'model.onnx',\n",
       "  'additional_files': ['stopwords.txt'],\n",
       "  'requires_idf': True},\n",
       " {'model': 'Qdrant/bm25',\n",
       "  'description': 'BM25 as sparse embeddings meant to be used with Qdrant',\n",
       "  'license': 'apache-2.0',\n",
       "  'size_in_GB': 0.01,\n",
       "  'sources': {'hf': 'Qdrant/bm25'},\n",
       "  'model_file': 'mock.file',\n",
       "  'additional_files': ['arabic.txt',\n",
       "   'azerbaijani.txt',\n",
       "   'basque.txt',\n",
       "   'bengali.txt',\n",
       "   'catalan.txt',\n",
       "   'chinese.txt',\n",
       "   'danish.txt',\n",
       "   'dutch.txt',\n",
       "   'english.txt',\n",
       "   'finnish.txt',\n",
       "   'french.txt',\n",
       "   'german.txt',\n",
       "   'greek.txt',\n",
       "   'hebrew.txt',\n",
       "   'hinglish.txt',\n",
       "   'hungarian.txt',\n",
       "   'indonesian.txt',\n",
       "   'italian.txt',\n",
       "   'kazakh.txt',\n",
       "   'nepali.txt',\n",
       "   'norwegian.txt',\n",
       "   'portuguese.txt',\n",
       "   'romanian.txt',\n",
       "   'russian.txt',\n",
       "   'slovene.txt',\n",
       "   'spanish.txt',\n",
       "   'swedish.txt',\n",
       "   'tajik.txt',\n",
       "   'turkish.txt'],\n",
       "  'requires_idf': True}]"
      ]
     },
     "execution_count": 5,
     "metadata": {},
     "output_type": "execute_result"
    }
   ],
   "source": [
    "SparseTextEmbedding.list_supported_models()"
   ]
  },
  {
   "cell_type": "code",
   "execution_count": null,
   "metadata": {},
   "outputs": [],
   "source": [
    "model = SparseTextEmbedding(model_name='prithvida/Splade_PP_en_v1')\n",
    "\n",
    "documents = [\n",
    "    'Chandrayaan-3 is India\\'s third lunar mission',\n",
    "    'It aimed to land a rover on the Moon\\'s surface - joining the US, China and Russia',\n",
    "    'The mission is a follow-up to Chandrayaan-2, which had partial success',\n",
    "    'Chandrayaan-3 will be launched by the Indian Space Research Organisation (ISRO)',\n",
    "    'The estimated cost of the mission is around $35 million',\n",
    "    'It will carry instruments to study the lunar surface and atmosphere',\n",
    "    'Chandrayaan-3 landed on the Moon\\'s surface on 23rd August 2023',\n",
    "    'It consists of a lander named Vikram and a rover named Pragyan similar to Chandrayaan-2. Its propulsion module would act like an orbiter.',\n",
    "    'The propulsion module carries the lander and rover configuration until the spacecraft is in a 100-kilometre (62 mi) lunar orbit',\n",
    "    'The mission used GSLV Mk III rocket for its launch',\n",
    "    'Chandrayaan-3 was launched from the Satish Dhawan Space Centre in Sriharikota',\n",
    "    'Chandrayaan-3 was launched earlier in the year 2023',\n",
    "]"
   ]
  },
  {
   "cell_type": "code",
   "execution_count": null,
   "metadata": {},
   "outputs": [],
   "source": [
    "sparse_embeddings = list(model.embed(documents, batch_size=5)) "
   ]
  },
  {
   "cell_type": "code",
   "execution_count": null,
   "metadata": {},
   "outputs": [],
   "source": [
    "import json\n",
    "from tokenizers import Tokenizer\n",
    "\n",
    "tokenizer = Tokenizer.from_pretrained('Qdrant/SPLADE_PP_en_v1')"
   ]
  },
  {
   "cell_type": "code",
   "execution_count": null,
   "metadata": {},
   "outputs": [],
   "source": [
    "def get_tokens_and_weights(sparse_embedding: SparseEmbedding, tokenizer: Tokenizer) -> dict:\n",
    "    token_weight_dict = {}\n",
    "    \n",
    "    for i in range(len(sparse_embedding.indices)):\n",
    "        token = tokenizer.decode([sparse_embedding.indices[i]])\n",
    "        weight = sparse_embedding.values[i]\n",
    "        token_weight_dict[token] = weight\n",
    "\n",
    "    # Sort the dictionary by weights\n",
    "    token_weight_dict = dict(sorted(token_weight_dict.items(), key=lambda item: item[1], reverse=True))\n",
    "    \n",
    "    return token_weight_dict"
   ]
  },
  {
   "cell_type": "code",
   "execution_count": null,
   "metadata": {},
   "outputs": [],
   "source": [
    "index = 0\n",
    "print(json.dumps(get_tokens_and_weights(sparse_embeddings[index], tokenizer), indent=4))"
   ]
  },
  {
   "cell_type": "code",
   "execution_count": null,
   "metadata": {},
   "outputs": [],
   "source": [
    "# https://qdrant.tech/documentation/concepts/hybrid-queries/\n",
    "# https://huggingface.co/datasets/microsoft/ms_marco"
   ]
  },
  {
   "cell_type": "code",
   "execution_count": null,
   "metadata": {},
   "outputs": [],
   "source": [
    "from datasets import load_dataset\n",
    "from datasets import get_dataset_config_info\n",
    "from pandas import DataFrame\n",
    "\n",
    "\n",
    "def get_row_count(config_name: str):\n",
    "    dataset_info = get_dataset_config_info('BeIR/hotpotqa', config_name=config_name)\n",
    "    \n",
    "    return  dataset_info.splits[config_name].num_examples\n",
    "\n",
    "def get_corpus_queries_qrels(corpus_count: int, queries_count: int) -> tuple[DataFrame, DataFrame, DataFrame]:\n",
    "    max_corpus_count = get_row_count('corpus')\n",
    "    max_query_count = get_row_count('queries')\n",
    "    \n",
    "    if corpus_count > max_corpus_count or queries_count > max_query_count:\n",
    "        raise ValueError()\n",
    "    \n",
    "    # load\n",
    "    corpus = load_dataset('BeIR/hotpotqa', 'corpus', split=f'corpus[:{corpus_count}]')\n",
    "    queries = load_dataset('BeIR/hotpotqa', 'queries', split=f'queries[:{queries_count}]')\n",
    "    qrels = load_dataset('BeIR/hotpotqa-qrels')\n",
    "\n",
    "    # filter\n",
    "    query_ids_set = set(queries['_id'])\n",
    "    corpus_ids_set = set(corpus['_id'])\n",
    "\n",
    "    qrels_df = qrels['train'].to_pandas()\n",
    "    filtered_qrels_df = qrels_df[\n",
    "        qrels_df['corpus-id'].astype(str).isin(corpus_ids_set) &\n",
    "        qrels_df['query-id'].isin(query_ids_set)\n",
    "    ]\n",
    "\n",
    "    unique_corpus_ids = set(filtered_qrels_df['corpus-id'].astype(str))\n",
    "    unique_query_ids = set(filtered_qrels_df['query-id'])\n",
    "\n",
    "    filtered_corpus = corpus.filter(lambda x: x['_id'] in unique_corpus_ids)\n",
    "    filtered_queries = queries.filter(lambda x: x['_id'] in unique_query_ids)\n",
    "    \n",
    "    filtered_corpus_df = filtered_corpus.to_pandas()\n",
    "    filtered_queries_df = filtered_queries.to_pandas()\n",
    "    \n",
    "    return filtered_corpus_df, filtered_queries_df, filtered_qrels_df"
   ]
  },
  {
   "cell_type": "code",
   "execution_count": null,
   "metadata": {},
   "outputs": [],
   "source": [
    "from fastembed.sparse.bm25 import Bm25"
   ]
  }
 ],
 "metadata": {
  "kernelspec": {
   "display_name": "rag-LTDKTwC4-py3.12",
   "language": "python",
   "name": "python3"
  },
  "language_info": {
   "codemirror_mode": {
    "name": "ipython",
    "version": 3
   },
   "file_extension": ".py",
   "mimetype": "text/x-python",
   "name": "python",
   "nbconvert_exporter": "python",
   "pygments_lexer": "ipython3",
   "version": "3.12.3"
  }
 },
 "nbformat": 4,
 "nbformat_minor": 2
}
