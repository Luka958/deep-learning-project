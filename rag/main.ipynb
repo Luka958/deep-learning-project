{
 "cells": [
  {
   "cell_type": "code",
   "execution_count": 1,
   "metadata": {},
   "outputs": [],
   "source": [
    "from decouple import config\n",
    "\n",
    "\n",
    "QDRANT_URL = config('QDRANT_URL')\n",
    "QDRANT_API_KEY = config('QDRANT_API_KEY')\n"
   ]
  },
  {
   "cell_type": "code",
   "execution_count": null,
   "metadata": {},
   "outputs": [],
   "source": [
    "# https://qdrant.tech/documentation/quickstart/"
   ]
  },
  {
   "cell_type": "code",
   "execution_count": 2,
   "metadata": {},
   "outputs": [
    {
     "name": "stdout",
     "output_type": "stream",
     "text": [
      "collections=[]\n"
     ]
    }
   ],
   "source": [
    "from qdrant_client import QdrantClient\n",
    "\n",
    "\n",
    "qdrant_client = QdrantClient(\n",
    "    url=QDRANT_URL, \n",
    "    api_key=QDRANT_API_KEY,\n",
    ")\n",
    "\n",
    "print(qdrant_client.get_collections())"
   ]
  },
  {
   "cell_type": "code",
   "execution_count": 4,
   "metadata": {},
   "outputs": [],
   "source": [
    "from fastembed import TextEmbedding\n",
    "\n",
    "\n",
    "documents = [\n",
    "    'FastEmbed is lighter than Transformers & Sentence-Transformers.',\n",
    "    'FastEmbed is supported by and maintained by Qdrant.',\n",
    "]"
   ]
  },
  {
   "cell_type": "code",
   "execution_count": 5,
   "metadata": {},
   "outputs": [
    {
     "name": "stderr",
     "output_type": "stream",
     "text": [
      "Fetching 5 files: 100%|██████████| 5/5 [00:06<00:00,  1.32s/it]\n"
     ]
    }
   ],
   "source": [
    "embedding_model = TextEmbedding(model_name='BAAI/bge-small-en-v1.5')"
   ]
  },
  {
   "cell_type": "code",
   "execution_count": null,
   "metadata": {},
   "outputs": [
    {
     "data": {
      "text/plain": [
       "384"
      ]
     },
     "execution_count": 8,
     "metadata": {},
     "output_type": "execute_result"
    }
   ],
   "source": [
    "# https://qdrant.tech/documentation/fastembed/fastembed-quickstart/\n",
    "\n",
    "embeddings = list(embedding_model.embed(documents))\n",
    "len(embeddings[0])  "
   ]
  },
  {
   "cell_type": "code",
   "execution_count": null,
   "metadata": {},
   "outputs": [],
   "source": [
    "from qdrant_client.models import Distance, VectorParams\n",
    "\n",
    "\n",
    "COLLECTION_NAME = ...\n",
    "\n",
    "qdrant_client.create_collection(\n",
    "    collection_name=COLLECTION_NAME,\n",
    "    vectors_config=VectorParams(size=384, distance=Distance.COSINE),\n",
    ")"
   ]
  },
  {
   "cell_type": "code",
   "execution_count": null,
   "metadata": {},
   "outputs": [],
   "source": [
    "from qdrant_client.models import PointStruct\n",
    "from uuid import uuid4\n",
    "\n",
    "operation_info = qdrant_client.upsert(\n",
    "    collection_name=COLLECTION_NAME,\n",
    "    wait=True,\n",
    "    points=[\n",
    "        PointStruct(\n",
    "            id=uuid4(), \n",
    "            vector=embedding.tolist(), \n",
    "            payload={'text': document}\n",
    "        )\n",
    "        for document, embedding in zip(documents, embeddings)\n",
    "    ],\n",
    ")\n",
    "\n",
    "print(operation_info)"
   ]
  },
  {
   "cell_type": "code",
   "execution_count": null,
   "metadata": {},
   "outputs": [],
   "source": [
    "from qdrant_client.models import Filter, FieldCondition, MatchValue\n",
    "\n",
    "\n",
    "search_result = qdrant_client.query_points(\n",
    "    collection_name=COLLECTION_NAME,\n",
    "    query=...,\n",
    "    #query_filter=Filter(\n",
    "    #    must=[FieldCondition(key='text', match=MatchValue(value=...))]  # metadata\n",
    "    #),\n",
    "    with_payload=False,\n",
    "    limit=3\n",
    ").points\n",
    "\n",
    "print(search_result)"
   ]
  },
  {
   "cell_type": "code",
   "execution_count": 10,
   "metadata": {},
   "outputs": [],
   "source": [
    "from fastembed import SparseTextEmbedding, SparseEmbedding\n",
    "\n",
    "# https://qdrant.tech/documentation/fastembed/fastembed-splade/"
   ]
  },
  {
   "cell_type": "code",
   "execution_count": null,
   "metadata": {},
   "outputs": [],
   "source": [
    "SparseTextEmbedding.list_supported_models()"
   ]
  },
  {
   "cell_type": "code",
   "execution_count": null,
   "metadata": {},
   "outputs": [],
   "source": [
    "model = SparseTextEmbedding(model_name='prithvida/Splade_PP_en_v1')\n",
    "\n",
    "documents = [\n",
    "    'Chandrayaan-3 is India\\'s third lunar mission',\n",
    "    'It aimed to land a rover on the Moon\\'s surface - joining the US, China and Russia',\n",
    "    'The mission is a follow-up to Chandrayaan-2, which had partial success',\n",
    "    'Chandrayaan-3 will be launched by the Indian Space Research Organisation (ISRO)',\n",
    "    'The estimated cost of the mission is around $35 million',\n",
    "    'It will carry instruments to study the lunar surface and atmosphere',\n",
    "    'Chandrayaan-3 landed on the Moon\\'s surface on 23rd August 2023',\n",
    "    'It consists of a lander named Vikram and a rover named Pragyan similar to Chandrayaan-2. Its propulsion module would act like an orbiter.',\n",
    "    'The propulsion module carries the lander and rover configuration until the spacecraft is in a 100-kilometre (62 mi) lunar orbit',\n",
    "    'The mission used GSLV Mk III rocket for its launch',\n",
    "    'Chandrayaan-3 was launched from the Satish Dhawan Space Centre in Sriharikota',\n",
    "    'Chandrayaan-3 was launched earlier in the year 2023',\n",
    "]"
   ]
  },
  {
   "cell_type": "code",
   "execution_count": null,
   "metadata": {},
   "outputs": [],
   "source": [
    "sparse_embeddings = list(model.embed(documents, batch_size=5)) "
   ]
  },
  {
   "cell_type": "code",
   "execution_count": null,
   "metadata": {},
   "outputs": [],
   "source": [
    "import json\n",
    "from tokenizers import Tokenizer\n",
    "\n",
    "tokenizer = Tokenizer.from_pretrained('Qdrant/SPLADE_PP_en_v1')"
   ]
  },
  {
   "cell_type": "code",
   "execution_count": null,
   "metadata": {},
   "outputs": [],
   "source": [
    "def get_tokens_and_weights(sparse_embedding: SparseEmbedding, tokenizer: Tokenizer) -> dict:\n",
    "    token_weight_dict = {}\n",
    "    \n",
    "    for i in range(len(sparse_embedding.indices)):\n",
    "        token = tokenizer.decode([sparse_embedding.indices[i]])\n",
    "        weight = sparse_embedding.values[i]\n",
    "        token_weight_dict[token] = weight\n",
    "\n",
    "    # Sort the dictionary by weights\n",
    "    token_weight_dict = dict(sorted(token_weight_dict.items(), key=lambda item: item[1], reverse=True))\n",
    "    \n",
    "    return token_weight_dict"
   ]
  },
  {
   "cell_type": "code",
   "execution_count": null,
   "metadata": {},
   "outputs": [],
   "source": [
    "index = 0\n",
    "print(json.dumps(get_tokens_and_weights(sparse_embeddings[index], tokenizer), indent=4))"
   ]
  }
 ],
 "metadata": {
  "kernelspec": {
   "display_name": "rag-LTDKTwC4-py3.12",
   "language": "python",
   "name": "python3"
  },
  "language_info": {
   "codemirror_mode": {
    "name": "ipython",
    "version": 3
   },
   "file_extension": ".py",
   "mimetype": "text/x-python",
   "name": "python",
   "nbconvert_exporter": "python",
   "pygments_lexer": "ipython3",
   "version": "3.12.3"
  }
 },
 "nbformat": 4,
 "nbformat_minor": 2
}
