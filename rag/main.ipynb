{
 "cells": [
  {
   "cell_type": "markdown",
   "metadata": {},
   "source": [
    "## Main"
   ]
  },
  {
   "cell_type": "markdown",
   "metadata": {},
   "source": [
    "### Imports"
   ]
  },
  {
   "cell_type": "code",
   "execution_count": 1,
   "metadata": {},
   "outputs": [],
   "source": [
    "%load_ext autoreload\n",
    "%autoreload 2\n",
    "\n",
    "from decouple import config\n",
    "from fastembed import (\n",
    "    TextEmbedding, \n",
    "    SparseTextEmbedding, \n",
    "    LateInteractionTextEmbedding\n",
    ")\n",
    "from qdrant_client import QdrantClient\n",
    "from qdrant_client.models import (\n",
    "    Distance,\n",
    "    Fusion,\n",
    "    VectorParams, \n",
    "    SparseVectorParams,\n",
    "    SparseIndexParams,\n",
    "    MultiVectorConfig,\n",
    "    MultiVectorComparator,\n",
    "    Modifier,\n",
    "    HnswConfigDiff\n",
    ")\n",
    "from ranx import Qrels, Run, evaluate\n",
    "\n",
    "from rag.models import (\n",
    "    DenseModelConfig, \n",
    "    SparseModelConfig,\n",
    "    RerankingModelConfig,\n",
    "    DenseSearchManager,\n",
    "    SparseSearchManager,\n",
    "    HybridFusionSearchManager, \n",
    "    HybridRerankingSearchManager, \n",
    "    Metadata\n",
    ")\n",
    "from rag.utils import load_datasets\n",
    "\n",
    "\n",
    "QDRANT_URL = config('QDRANT_URL')\n",
    "QDRANT_API_KEY = config('QDRANT_API_KEY')\n",
    "NVIDIA_API_KEY = config('NVIDIA_API_KEY')\n",
    "CUDA=config('CUDA', cast=bool)\n",
    "PROVIDER = 'CUDAExecutionProvider' if CUDA else 'CPUExecutionProvider'"
   ]
  },
  {
   "cell_type": "markdown",
   "metadata": {},
   "source": [
    "### Client"
   ]
  },
  {
   "cell_type": "code",
   "execution_count": 2,
   "metadata": {},
   "outputs": [
    {
     "name": "stdout",
     "output_type": "stream",
     "text": [
      "collections=[CollectionDescription(name='dense_collection'), CollectionDescription(name='fusion_collection'), CollectionDescription(name='reranking_collection'), CollectionDescription(name='sparse_collection')]\n"
     ]
    }
   ],
   "source": [
    "qdrant_client = QdrantClient(\n",
    "    url=QDRANT_URL, \n",
    "    api_key=QDRANT_API_KEY,\n",
    ")\n",
    "\n",
    "print(qdrant_client.get_collections())"
   ]
  },
  {
   "cell_type": "markdown",
   "metadata": {},
   "source": [
    "### Models"
   ]
  },
  {
   "cell_type": "code",
   "execution_count": 3,
   "metadata": {},
   "outputs": [
    {
     "name": "stderr",
     "output_type": "stream",
     "text": [
      "c:\\Users\\lukap\\AppData\\Local\\pypoetry\\Cache\\virtualenvs\\rag-LTDKTwC4-py3.12\\Lib\\site-packages\\fastembed\\common\\onnx_model.py:96: RuntimeWarning: Attempt to set CUDAExecutionProvider failed. Current providers: ['CPUExecutionProvider'].If you are using CUDA 12.x, install onnxruntime-gpu via `pip install onnxruntime-gpu --extra-index-url https://aiinfra.pkgs.visualstudio.com/PublicPackages/_packaging/onnxruntime-cuda-12/pypi/simple/`\n",
      "  warnings.warn(\n"
     ]
    }
   ],
   "source": [
    "dense_model_name = 'BAAI/bge-small-en-v1.5'\n",
    "dense_model = TextEmbedding(\n",
    "    model_name=dense_model_name,\n",
    "    providers=[PROVIDER]\n",
    ")\n",
    "\n",
    "sparse_model_name = 'Qdrant/bm25'\n",
    "sparse_model = SparseTextEmbedding(\n",
    "    model_name=sparse_model_name,\n",
    "    providers=[PROVIDER],\n",
    "    k1=1.5,\n",
    "    b=0.75\n",
    ")\n",
    "\n",
    "reranking_model_name = 'colbert-ir/colbertv2.0'\n",
    "reranking_model = LateInteractionTextEmbedding(\n",
    "    model_name=reranking_model_name,\n",
    "    providers=[PROVIDER]\n",
    ")\n",
    "\n",
    "dense_model_config = DenseModelConfig(\n",
    "    name=dense_model_name,\n",
    "    vector_params=VectorParams(\n",
    "        size=384,\n",
    "        distance=Distance.COSINE,\n",
    "        hnsw_config=HnswConfigDiff(\n",
    "            m=16,\n",
    "            ef_construct=128,\n",
    "            on_disk=True\n",
    "        ),\n",
    "        on_disk=True\n",
    "    )\n",
    ")\n",
    "\n",
    "sparse_model_config = SparseModelConfig(\n",
    "    name=sparse_model_name,\n",
    "    sparse_vector_params=SparseVectorParams(\n",
    "        index=SparseIndexParams(\n",
    "            on_disk=True\n",
    "        ),\n",
    "        modifier=Modifier.IDF\n",
    "    )\n",
    ")\n",
    "\n",
    "reranking_model_config = RerankingModelConfig(\n",
    "    name=reranking_model_name,\n",
    "    vector_params=VectorParams(\n",
    "        size=128,\n",
    "        distance=Distance.COSINE,\n",
    "        hnsw_config=HnswConfigDiff(\n",
    "            m=0     # disable HNSW\n",
    "        ),\n",
    "        on_disk=True,\n",
    "        multivector_config=MultiVectorConfig(\n",
    "            comparator=MultiVectorComparator.MAX_SIM,\n",
    "        )\n",
    "    )\n",
    ")"
   ]
  },
  {
   "cell_type": "markdown",
   "metadata": {},
   "source": [
    "### Documents"
   ]
  },
  {
   "cell_type": "code",
   "execution_count": 4,
   "metadata": {},
   "outputs": [
    {
     "name": "stdout",
     "output_type": "stream",
     "text": [
      "104 109 111\n"
     ]
    }
   ],
   "source": [
    "corpus_df, queries_df, qrels_df = load_datasets(5_000, 5_000)\n",
    "\n",
    "print(len(corpus_df), len(queries_df), len(qrels_df))"
   ]
  },
  {
   "cell_type": "code",
   "execution_count": 6,
   "metadata": {},
   "outputs": [
    {
     "data": {
      "text/html": [
       "<div>\n",
       "<style scoped>\n",
       "    .dataframe tbody tr th:only-of-type {\n",
       "        vertical-align: middle;\n",
       "    }\n",
       "\n",
       "    .dataframe tbody tr th {\n",
       "        vertical-align: top;\n",
       "    }\n",
       "\n",
       "    .dataframe thead th {\n",
       "        text-align: right;\n",
       "    }\n",
       "</style>\n",
       "<table border=\"1\" class=\"dataframe\">\n",
       "  <thead>\n",
       "    <tr style=\"text-align: right;\">\n",
       "      <th></th>\n",
       "      <th>_id</th>\n",
       "      <th>title</th>\n",
       "      <th>text</th>\n",
       "    </tr>\n",
       "  </thead>\n",
       "  <tbody>\n",
       "    <tr>\n",
       "      <th>0</th>\n",
       "      <td>307</td>\n",
       "      <td>Abraham Lincoln</td>\n",
       "      <td>Abraham Lincoln ( ; February 12, 1809 – April ...</td>\n",
       "    </tr>\n",
       "    <tr>\n",
       "      <th>1</th>\n",
       "      <td>628</td>\n",
       "      <td>Aldous Huxley</td>\n",
       "      <td>Aldous Leonard Huxley ( ; 26 July 1894 – 22 No...</td>\n",
       "    </tr>\n",
       "    <tr>\n",
       "      <th>2</th>\n",
       "      <td>844</td>\n",
       "      <td>Amsterdam</td>\n",
       "      <td>Amsterdam ( ; ] ) is the capital and most popu...</td>\n",
       "    </tr>\n",
       "  </tbody>\n",
       "</table>\n",
       "</div>"
      ],
      "text/plain": [
       "   _id            title                                               text\n",
       "0  307  Abraham Lincoln  Abraham Lincoln ( ; February 12, 1809 – April ...\n",
       "1  628    Aldous Huxley  Aldous Leonard Huxley ( ; 26 July 1894 – 22 No...\n",
       "2  844        Amsterdam  Amsterdam ( ; ] ) is the capital and most popu..."
      ]
     },
     "execution_count": 6,
     "metadata": {},
     "output_type": "execute_result"
    }
   ],
   "source": [
    "corpus_df[:3]"
   ]
  },
  {
   "cell_type": "code",
   "execution_count": 11,
   "metadata": {},
   "outputs": [
    {
     "data": {
      "text/html": [
       "<div>\n",
       "<style scoped>\n",
       "    .dataframe tbody tr th:only-of-type {\n",
       "        vertical-align: middle;\n",
       "    }\n",
       "\n",
       "    .dataframe tbody tr th {\n",
       "        vertical-align: top;\n",
       "    }\n",
       "\n",
       "    .dataframe thead th {\n",
       "        text-align: right;\n",
       "    }\n",
       "</style>\n",
       "<table border=\"1\" class=\"dataframe\">\n",
       "  <thead>\n",
       "    <tr style=\"text-align: right;\">\n",
       "      <th></th>\n",
       "      <th>_id</th>\n",
       "      <th>title</th>\n",
       "      <th>text</th>\n",
       "    </tr>\n",
       "  </thead>\n",
       "  <tbody>\n",
       "    <tr>\n",
       "      <th>0</th>\n",
       "      <td>5ac3b95755429939154138e6</td>\n",
       "      <td></td>\n",
       "      <td>What language family is the language of the tr...</td>\n",
       "    </tr>\n",
       "    <tr>\n",
       "      <th>1</th>\n",
       "      <td>5abee3d95542994516f4546c</td>\n",
       "      <td></td>\n",
       "      <td>Which of the following is acclaimed for his \"l...</td>\n",
       "    </tr>\n",
       "    <tr>\n",
       "      <th>2</th>\n",
       "      <td>5a8c4c8e554299585d9e3652</td>\n",
       "      <td></td>\n",
       "      <td>Filipino sitcom Iskul Bukol had a theme song t...</td>\n",
       "    </tr>\n",
       "  </tbody>\n",
       "</table>\n",
       "</div>"
      ],
      "text/plain": [
       "                        _id title  \\\n",
       "0  5ac3b95755429939154138e6         \n",
       "1  5abee3d95542994516f4546c         \n",
       "2  5a8c4c8e554299585d9e3652         \n",
       "\n",
       "                                                text  \n",
       "0  What language family is the language of the tr...  \n",
       "1  Which of the following is acclaimed for his \"l...  \n",
       "2  Filipino sitcom Iskul Bukol had a theme song t...  "
      ]
     },
     "execution_count": 11,
     "metadata": {},
     "output_type": "execute_result"
    }
   ],
   "source": [
    "queries_df[:3]"
   ]
  },
  {
   "cell_type": "code",
   "execution_count": 12,
   "metadata": {},
   "outputs": [
    {
     "data": {
      "text/html": [
       "<div>\n",
       "<style scoped>\n",
       "    .dataframe tbody tr th:only-of-type {\n",
       "        vertical-align: middle;\n",
       "    }\n",
       "\n",
       "    .dataframe tbody tr th {\n",
       "        vertical-align: top;\n",
       "    }\n",
       "\n",
       "    .dataframe thead th {\n",
       "        text-align: right;\n",
       "    }\n",
       "</style>\n",
       "<table border=\"1\" class=\"dataframe\">\n",
       "  <thead>\n",
       "    <tr style=\"text-align: right;\">\n",
       "      <th></th>\n",
       "      <th>query-id</th>\n",
       "      <th>corpus-id</th>\n",
       "      <th>score</th>\n",
       "    </tr>\n",
       "  </thead>\n",
       "  <tbody>\n",
       "    <tr>\n",
       "      <th>101</th>\n",
       "      <td>5ac3b95755429939154138e6</td>\n",
       "      <td>7222</td>\n",
       "      <td>1</td>\n",
       "    </tr>\n",
       "    <tr>\n",
       "      <th>137</th>\n",
       "      <td>5abee3d95542994516f4546c</td>\n",
       "      <td>2310</td>\n",
       "      <td>1</td>\n",
       "    </tr>\n",
       "    <tr>\n",
       "      <th>203</th>\n",
       "      <td>5a8c4c8e554299585d9e3652</td>\n",
       "      <td>9288</td>\n",
       "      <td>1</td>\n",
       "    </tr>\n",
       "  </tbody>\n",
       "</table>\n",
       "</div>"
      ],
      "text/plain": [
       "                     query-id  corpus-id  score\n",
       "101  5ac3b95755429939154138e6       7222      1\n",
       "137  5abee3d95542994516f4546c       2310      1\n",
       "203  5a8c4c8e554299585d9e3652       9288      1"
      ]
     },
     "execution_count": 12,
     "metadata": {},
     "output_type": "execute_result"
    }
   ],
   "source": [
    "qrels_df[:3]"
   ]
  },
  {
   "cell_type": "code",
   "execution_count": 7,
   "metadata": {},
   "outputs": [],
   "source": [
    "corpus_texts: list[str] = corpus_df['text'].values.tolist()\n",
    "metadatas = [\n",
    "    Metadata(\n",
    "        id=row['_id'],\n",
    "        text=row['text']\n",
    "    )\n",
    "    for _, row in corpus_df.iterrows()\n",
    "]\n",
    "\n",
    "dense_embeddings = list(dense_model.embed(corpus_texts))\n",
    "sparse_embeddings = list(sparse_model.embed(corpus_texts))\n",
    "reranking_embeddings = list(reranking_model.embed(corpus_texts))"
   ]
  },
  {
   "cell_type": "markdown",
   "metadata": {},
   "source": [
    "### Indexing"
   ]
  },
  {
   "cell_type": "code",
   "execution_count": 8,
   "metadata": {},
   "outputs": [],
   "source": [
    "DENSE_COLLECTION_NAME = 'HotpotQA_dense'\n",
    "SPARSE_COLLECTION_NAME = 'HotpotQA_sparse'\n",
    "FUSION_COLLECTION_NAME = 'HotpotQA_fusion'\n",
    "RERANKING_COLLECTION_NAME = 'HotpotQA_reranking'"
   ]
  },
  {
   "cell_type": "markdown",
   "metadata": {},
   "source": [
    "#### Dense"
   ]
  },
  {
   "cell_type": "code",
   "execution_count": 9,
   "metadata": {},
   "outputs": [],
   "source": [
    "dense_search = DenseSearchManager(\n",
    "    qdrant_client=qdrant_client, \n",
    "    dense_model_config=dense_model_config\n",
    ")\n",
    "\n",
    "dense_search.create_collection(DENSE_COLLECTION_NAME)\n",
    "dense_search.upload_points(\n",
    "    DENSE_COLLECTION_NAME,\n",
    "    dense_embeddings,\n",
    "    metadatas\n",
    ")"
   ]
  },
  {
   "cell_type": "markdown",
   "metadata": {},
   "source": [
    "#### Sparse"
   ]
  },
  {
   "cell_type": "code",
   "execution_count": null,
   "metadata": {},
   "outputs": [],
   "source": [
    "sparse_search = SparseSearchManager(\n",
    "    qdrant_client=qdrant_client, \n",
    "    sparse_model_config=sparse_model_config\n",
    ")\n",
    "\n",
    "sparse_search.create_collection(SPARSE_COLLECTION_NAME)\n",
    "sparse_search.upload_points(\n",
    "    SPARSE_COLLECTION_NAME,\n",
    "    sparse_embeddings,\n",
    "    metadatas\n",
    ")"
   ]
  },
  {
   "cell_type": "markdown",
   "metadata": {},
   "source": [
    "#### Hybrid - Fusion"
   ]
  },
  {
   "cell_type": "code",
   "execution_count": null,
   "metadata": {},
   "outputs": [],
   "source": [
    "fusion_search = HybridFusionSearchManager(\n",
    "    qdrant_client=qdrant_client, \n",
    "    dense_model_config=dense_model_config,\n",
    "    sparse_model_config=sparse_model_config\n",
    ")\n",
    "\n",
    "fusion_search.create_collection(FUSION_COLLECTION_NAME)\n",
    "fusion_search.upload_points(\n",
    "    FUSION_COLLECTION_NAME, \n",
    "    dense_embeddings, \n",
    "    sparse_embeddings,\n",
    "    metadatas\n",
    ")"
   ]
  },
  {
   "cell_type": "markdown",
   "metadata": {},
   "source": [
    "#### Hybrid - Reranking"
   ]
  },
  {
   "cell_type": "code",
   "execution_count": null,
   "metadata": {},
   "outputs": [],
   "source": [
    "reranking_search = HybridRerankingSearchManager(\n",
    "    qdrant_client=qdrant_client, \n",
    "    dense_model_config=dense_model_config,\n",
    "    sparse_model_config=sparse_model_config,\n",
    "    reranking_model_config=reranking_model_config\n",
    ")\n",
    "\n",
    "reranking_search.create_collection(RERANKING_COLLECTION_NAME)\n",
    "reranking_search.upload_points(\n",
    "    RERANKING_COLLECTION_NAME, \n",
    "    dense_embeddings, \n",
    "    sparse_embeddings,\n",
    "    reranking_embeddings,\n",
    "    metadatas\n",
    ")"
   ]
  },
  {
   "cell_type": "markdown",
   "metadata": {},
   "source": [
    "### Query"
   ]
  },
  {
   "cell_type": "code",
   "execution_count": 15,
   "metadata": {},
   "outputs": [],
   "source": [
    "query_texts: list[str] = queries_df['text'].values.tolist()\n",
    "\n",
    "query_dense_embeddings = list(dense_model.embed(query_texts))\n",
    "query_sparse_embeddings = list(sparse_model.embed(query_texts))\n",
    "query_reranking_embeddings = list(reranking_model.embed(query_texts))"
   ]
  },
  {
   "cell_type": "markdown",
   "metadata": {},
   "source": [
    "### Search"
   ]
  },
  {
   "cell_type": "code",
   "execution_count": 16,
   "metadata": {},
   "outputs": [],
   "source": [
    "top_k = 5"
   ]
  },
  {
   "cell_type": "markdown",
   "metadata": {},
   "source": [
    "#### Dense"
   ]
  },
  {
   "cell_type": "code",
   "execution_count": null,
   "metadata": {},
   "outputs": [
    {
     "name": "stdout",
     "output_type": "stream",
     "text": [
      "id='b47dae5f-f645-4d3e-9a0a-de834009129e' version=1 score=0.6729106 payload={'id': 7222, 'text': 'The Choctaw (In the Choctaw language, Chahta) are a Native American people originally occupying what is now the Southeastern United States (modern-day Alabama, Florida, Mississippi, and Louisiana). Their Choctaw language belongs to the Muskogean language family group.'} vector=None shard_key=None order_value=None\n",
      "id='01d4ace3-e2b1-4fb3-92d1-51243470b30a' version=0 score=0.63985586 payload={'id': 2303, 'text': 'Aramaic (אַרָמָיָא \"Arāmāyā\", Syriac: ܐܪܡܝܐ\\u200e , Arabic: آرامية\\u200e \\u200e ) is a language or group of languages belonging to the Semitic subfamily of the Afroasiatic language family. More specifically, it is part of the Northwest Semitic group, which also includes the Canaanite languages such as Hebrew and Phoenician. The Aramaic alphabet was widely adopted for other languages and is ancestral to the Hebrew, Syriac and Arabic alphabets.'} vector=None shard_key=None order_value=None\n",
      "id='a05da44e-21ee-4671-9d4d-546e6fd62840' version=0 score=0.58219445 payload={'id': 628, 'text': 'Aldous Leonard Huxley ( ; 26 July 1894 – 22 November 1963) was an English writer, novelist, philosopher, and prominent member of the Huxley family. He graduated from Balliol College at the University of Oxford with a first-class honours in English literature.'} vector=None shard_key=None order_value=None\n"
     ]
    }
   ],
   "source": [
    "dense_scored_points_list = [\n",
    "    dense_search.search(\n",
    "        DENSE_COLLECTION_NAME,\n",
    "        query_dense_embedding,\n",
    "        top_k\n",
    "    )\n",
    "    for query_dense_embedding in query_dense_embeddings\n",
    "]\n",
    "\n",
    "print(*dense_scored_points_list[0][:3], sep='\\n')"
   ]
  },
  {
   "cell_type": "markdown",
   "metadata": {},
   "source": [
    "#### Sparse"
   ]
  },
  {
   "cell_type": "code",
   "execution_count": 18,
   "metadata": {},
   "outputs": [
    {
     "name": "stdout",
     "output_type": "stream",
     "text": [
      "id='87341816-6e96-4e1e-9b23-e7872b15d00f' version=0 score=17.041908 payload={'id': 2303, 'text': 'Aramaic (אַרָמָיָא \"Arāmāyā\", Syriac: ܐܪܡܝܐ\\u200e , Arabic: آرامية\\u200e \\u200e ) is a language or group of languages belonging to the Semitic subfamily of the Afroasiatic language family. More specifically, it is part of the Northwest Semitic group, which also includes the Canaanite languages such as Hebrew and Phoenician. The Aramaic alphabet was widely adopted for other languages and is ancestral to the Hebrew, Syriac and Arabic alphabets.'} vector=None shard_key=None order_value=None\n",
      "id='78df5b09-8390-41ee-a5dd-ae8a7fb593ae' version=1 score=16.999527 payload={'id': 7222, 'text': 'The Choctaw (In the Choctaw language, Chahta) are a Native American people originally occupying what is now the Southeastern United States (modern-day Alabama, Florida, Mississippi, and Louisiana). Their Choctaw language belongs to the Muskogean language family group.'} vector=None shard_key=None order_value=None\n",
      "id='c15996ee-e79a-45b7-a1df-d718e09d1527' version=0 score=12.229324 payload={'id': 3092, 'text': 'Akira Toriyama (鳥山 明 , Toriyama Akira , born April 5, 1955 in Nagoya, Aichi) is a Japanese manga and game artist. He first achieved mainstream recognition for his highly successful manga \"Dr. Slump\", before going on to create \"Dragon Ball\"—his best-known work—and acting as a character designer for several popular video games such as the \"Dragon Quest\" series, \"Blue Dragon\" and \"Chrono Trigger\". Toriyama is regarded as one of the artists that changed the history of manga, as his works are highly influential and popular, particularly \"Dragon Ball,\" which many manga artists cite as a source of inspiration.'} vector=None shard_key=None order_value=None\n"
     ]
    }
   ],
   "source": [
    "sparse_scored_points_list = [\n",
    "    sparse_search.search(\n",
    "        SPARSE_COLLECTION_NAME,\n",
    "        query_sparse_embedding,\n",
    "        top_k\n",
    "    )\n",
    "    for query_sparse_embedding in query_sparse_embeddings\n",
    "]\n",
    "\n",
    "print(*sparse_scored_points_list[0][:3], sep='\\n')"
   ]
  },
  {
   "cell_type": "markdown",
   "metadata": {},
   "source": [
    "#### Hybrid - Fusion"
   ]
  },
  {
   "cell_type": "code",
   "execution_count": null,
   "metadata": {},
   "outputs": [
    {
     "name": "stdout",
     "output_type": "stream",
     "text": [
      "id='06f53800-d0f3-40f5-8e3f-8f03e2facc45' version=1 score=0.8333334 payload={'id': 7222, 'text': 'The Choctaw (In the Choctaw language, Chahta) are a Native American people originally occupying what is now the Southeastern United States (modern-day Alabama, Florida, Mississippi, and Louisiana). Their Choctaw language belongs to the Muskogean language family group.'} vector=None shard_key=None order_value=None\n",
      "id='9bbb2b0f-8247-49e8-8520-bddcffd7d74b' version=0 score=0.8333334 payload={'id': 2303, 'text': 'Aramaic (אַרָמָיָא \"Arāmāyā\", Syriac: ܐܪܡܝܐ\\u200e , Arabic: آرامية\\u200e \\u200e ) is a language or group of languages belonging to the Semitic subfamily of the Afroasiatic language family. More specifically, it is part of the Northwest Semitic group, which also includes the Canaanite languages such as Hebrew and Phoenician. The Aramaic alphabet was widely adopted for other languages and is ancestral to the Hebrew, Syriac and Arabic alphabets.'} vector=None shard_key=None order_value=None\n",
      "id='d6ac7324-48eb-40ad-a5ad-e2f1d1f73889' version=0 score=0.25 payload={'id': 628, 'text': 'Aldous Leonard Huxley ( ; 26 July 1894 – 22 November 1963) was an English writer, novelist, philosopher, and prominent member of the Huxley family. He graduated from Balliol College at the University of Oxford with a first-class honours in English literature.'} vector=None shard_key=None order_value=None\n"
     ]
    }
   ],
   "source": [
    "fusion_scored_points_list = [\n",
    "    fusion_search.search(\n",
    "        FUSION_COLLECTION_NAME,\n",
    "        query_dense_embedding,\n",
    "        query_sparse_embedding,\n",
    "        Fusion.RRF,\n",
    "        top_k\n",
    "    )\n",
    "    for query_dense_embedding, query_sparse_embedding in zip(query_dense_embeddings, query_sparse_embeddings)\n",
    "]\n",
    "\n",
    "print(*fusion_scored_points_list[0][:3], sep='\\n')"
   ]
  },
  {
   "cell_type": "markdown",
   "metadata": {},
   "source": [
    "#### Hybrid - Reranking"
   ]
  },
  {
   "cell_type": "code",
   "execution_count": null,
   "metadata": {},
   "outputs": [
    {
     "name": "stdout",
     "output_type": "stream",
     "text": [
      "id='7d7b49d4-8ebb-4c05-8d1a-0f8cf0903b5c' version=4 score=9.195317 payload={'id': 7222, 'text': 'The Choctaw (In the Choctaw language, Chahta) are a Native American people originally occupying what is now the Southeastern United States (modern-day Alabama, Florida, Mississippi, and Louisiana). Their Choctaw language belongs to the Muskogean language family group.'} vector=None shard_key=None order_value=None\n",
      "id='9f3b4686-d66c-49b6-a396-588686a4ee40' version=5 score=8.606562 payload={'id': 9751, 'text': 'Elwyn Brooks \"E. B.\" White (July 11, 1899 – October 1, 1985) was an American writer. He was a contributor to The New Yorker magazine and a co-author of the English language style guide \"The Elements of Style\", which is commonly known as \"Strunk & White\". He also wrote books for children, including \"Stuart Little\" in 1945, \"Charlotte\\'s Web\" in 1952, and \"The Trumpet of the Swan\" in 1970. \"Charlotte\\'s Web\" was voted the top children\\'s novel in a 2012 survey of \"School Library Journal\" readers, an accomplishment repeated from earlier surveys.'} vector=None shard_key=None order_value=None\n",
      "id='03ddc6ca-69a7-4504-8d11-776f90425e1e' version=1 score=7.20535 payload={'id': 2303, 'text': 'Aramaic (אַרָמָיָא \"Arāmāyā\", Syriac: ܐܪܡܝܐ\\u200e , Arabic: آرامية\\u200e \\u200e ) is a language or group of languages belonging to the Semitic subfamily of the Afroasiatic language family. More specifically, it is part of the Northwest Semitic group, which also includes the Canaanite languages such as Hebrew and Phoenician. The Aramaic alphabet was widely adopted for other languages and is ancestral to the Hebrew, Syriac and Arabic alphabets.'} vector=None shard_key=None order_value=None\n"
     ]
    }
   ],
   "source": [
    "reranking_scored_points_list = [\n",
    "    reranking_search.search(\n",
    "        RERANKING_COLLECTION_NAME,\n",
    "        query_dense_embedding,\n",
    "        query_sparse_embedding,\n",
    "        query_reranking_embedding,\n",
    "        5 * top_k,\n",
    "        top_k\n",
    "    )\n",
    "    for query_dense_embedding, query_sparse_embedding, query_reranking_embedding in zip(\n",
    "        query_dense_embeddings, query_sparse_embeddings, query_reranking_embeddings\n",
    "    )\n",
    "]\n",
    "\n",
    "print(*reranking_scored_points_list[0][:3], sep='\\n')"
   ]
  },
  {
   "cell_type": "markdown",
   "metadata": {},
   "source": [
    "### Evaluate"
   ]
  },
  {
   "cell_type": "markdown",
   "metadata": {},
   "source": [
    "#### Qrels (query relevances)"
   ]
  },
  {
   "cell_type": "code",
   "execution_count": 23,
   "metadata": {},
   "outputs": [],
   "source": [
    "qrels_dict = {}\n",
    "\n",
    "for _, row in qrels_df.iterrows():\n",
    "    query_id = row['query-id']\n",
    "    corpus_id = str(row['corpus-id'])\n",
    "    relevance = int(row['score'])\n",
    "    \n",
    "    if query_id not in qrels_dict:\n",
    "        qrels_dict[query_id] = {}\n",
    "\n",
    "    qrels_dict[query_id][corpus_id] = relevance"
   ]
  },
  {
   "cell_type": "markdown",
   "metadata": {},
   "source": [
    "#### Runs"
   ]
  },
  {
   "cell_type": "code",
   "execution_count": 28,
   "metadata": {},
   "outputs": [],
   "source": [
    "runs_dict = {}\n",
    "\n",
    "for i, query_id in enumerate(queries_df['_id'].values):\n",
    "    runs_dict[query_id] = {}\n",
    "    \n",
    "    for scored_point in dense_scored_points_list[i]:\n",
    "        doc_id = str(scored_point.payload['id'])\n",
    "        runs_dict[query_id][doc_id] = float(scored_point.score)"
   ]
  },
  {
   "cell_type": "markdown",
   "metadata": {},
   "source": [
    "#### Metrics"
   ]
  },
  {
   "cell_type": "code",
   "execution_count": 27,
   "metadata": {},
   "outputs": [],
   "source": [
    "metrics = [\n",
    "    'mrr',\n",
    "    'map',\n",
    "    f'precision@{top_k}',\n",
    "    f'recall@{top_k}',\n",
    "    f'ndcg@{top_k}'\n",
    "]"
   ]
  },
  {
   "cell_type": "markdown",
   "metadata": {},
   "source": [
    "#### Results"
   ]
  },
  {
   "cell_type": "code",
   "execution_count": 29,
   "metadata": {},
   "outputs": [
    {
     "name": "stderr",
     "output_type": "stream",
     "text": [
      "c:\\Users\\lukap\\AppData\\Local\\pypoetry\\Cache\\virtualenvs\\rag-LTDKTwC4-py3.12\\Lib\\site-packages\\ranx\\metrics\\reciprocal_rank.py:29: NumbaTypeSafetyWarning: \u001b[1m\u001b[1m\u001b[1munsafe cast from uint64 to int64. Precision may be lost.\u001b[0m\u001b[0m\u001b[0m\n",
      "  scores[i] = _reciprocal_rank(qrels[i], run[i], k, rel_lvl)\n"
     ]
    },
    {
     "name": "stdout",
     "output_type": "stream",
     "text": [
      "{'mrr': np.float64(0.9365443425076454), 'map': np.float64(0.9365443425076454), 'precision@5': np.float64(0.19999999999999998), 'recall@5': np.float64(0.981651376146789), 'ndcg@5': np.float64(0.9481393103951706)}\n"
     ]
    }
   ],
   "source": [
    "qrels_ranx = Qrels(qrels_dict)\n",
    "run_ranx = Run(runs_dict)\n",
    "\n",
    "results = evaluate(qrels_ranx, run_ranx, metrics=metrics)\n",
    "\n",
    "print(results)"
   ]
  }
 ],
 "metadata": {
  "kernelspec": {
   "display_name": "rag-LTDKTwC4-py3.12",
   "language": "python",
   "name": "python3"
  },
  "language_info": {
   "codemirror_mode": {
    "name": "ipython",
    "version": 3
   },
   "file_extension": ".py",
   "mimetype": "text/x-python",
   "name": "python",
   "nbconvert_exporter": "python",
   "pygments_lexer": "ipython3",
   "version": "3.12.3"
  }
 },
 "nbformat": 4,
 "nbformat_minor": 2
}
